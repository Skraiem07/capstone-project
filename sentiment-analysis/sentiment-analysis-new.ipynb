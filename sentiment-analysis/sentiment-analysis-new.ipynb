{
 "cells": [
  {
   "cell_type": "markdown",
   "metadata": {},
   "source": [
    "# Sentiment Analysis on User Reviews"
   ]
  },
  {
   "cell_type": "markdown",
   "metadata": {},
   "source": [
    "## Setting Up the Environment"
   ]
  },
  {
   "cell_type": "code",
   "execution_count": 49,
   "metadata": {},
   "outputs": [
    {
     "name": "stderr",
     "output_type": "stream",
     "text": [
      "huggingface/tokenizers: The current process just got forked, after parallelism has already been used. Disabling parallelism to avoid deadlocks...\n",
      "To disable this warning, you can either:\n",
      "\t- Avoid using `tokenizers` before the fork if possible\n",
      "\t- Explicitly set the environment variable TOKENIZERS_PARALLELISM=(true | false)\n"
     ]
    },
    {
     "name": "stdout",
     "output_type": "stream",
     "text": [
      "Collecting nltk\n",
      "  Downloading nltk-3.9.1-py3-none-any.whl.metadata (2.9 kB)\n",
      "Collecting click (from nltk)\n",
      "  Using cached click-8.1.7-py3-none-any.whl.metadata (3.0 kB)\n",
      "Requirement already satisfied: joblib in ./.venv/lib/python3.11/site-packages (from nltk) (1.4.2)\n",
      "Requirement already satisfied: regex>=2021.8.3 in ./.venv/lib/python3.11/site-packages (from nltk) (2024.7.24)\n",
      "Requirement already satisfied: tqdm in ./.venv/lib/python3.11/site-packages (from nltk) (4.66.5)\n",
      "Downloading nltk-3.9.1-py3-none-any.whl (1.5 MB)\n",
      "\u001b[2K   \u001b[90m━━━━━━━━━━━━━━━━━━━━━━━━━━━━━━━━━━━━━━━━\u001b[0m \u001b[32m1.5/1.5 MB\u001b[0m \u001b[31m7.3 MB/s\u001b[0m eta \u001b[36m0:00:00\u001b[0ma \u001b[36m0:00:01\u001b[0m\n",
      "\u001b[?25hUsing cached click-8.1.7-py3-none-any.whl (97 kB)\n",
      "Installing collected packages: click, nltk\n",
      "Successfully installed click-8.1.7 nltk-3.9.1\n"
     ]
    }
   ],
   "source": [
    "!pip install nltk"
   ]
  },
  {
   "cell_type": "code",
   "execution_count": 50,
   "metadata": {},
   "outputs": [],
   "source": [
    "import pandas as pd\n",
    "import re\n",
    "import numpy as np\n",
    "import matplotlib.pyplot as plt\n",
    "import seaborn as sns\n",
    "import nltk\n",
    "\n",
    "# plt.style.use('ggplot')"
   ]
  },
  {
   "cell_type": "markdown",
   "metadata": {},
   "source": [
    "## "
   ]
  },
  {
   "cell_type": "markdown",
   "metadata": {},
   "source": [
    "## Load the Data"
   ]
  },
  {
   "cell_type": "markdown",
   "metadata": {},
   "source": [
    "For now, we are not merging the review dataset because of the size. The files will be processed separately and then merged. There might be some duplicates after that because of how the reviews are separated, these will be handled after as well."
   ]
  },
  {
   "cell_type": "code",
   "execution_count": 51,
   "metadata": {},
   "outputs": [],
   "source": [
    "products = pd.read_csv('../data/archive/product_info.csv', low_memory=False)\n",
    "rev1 = pd.read_csv('../data/archive/reviews_0-250.csv', low_memory=False)\n",
    "rev2 = pd.read_csv('../data/archive/reviews_250-500.csv', low_memory=False)\n",
    "rev3 = pd.read_csv('../data/archive/reviews_500-750.csv', low_memory=False)\n",
    "rev4 = pd.read_csv('../data/archive/reviews_750-1250.csv', low_memory=False)\n",
    "rev5 = pd.read_csv('../data/archive/reviews_1250-end.csv', low_memory=False)"
   ]
  },
  {
   "cell_type": "code",
   "execution_count": 52,
   "metadata": {},
   "outputs": [
    {
     "data": {
      "text/plain": [
       "(8494, 27)"
      ]
     },
     "execution_count": 52,
     "metadata": {},
     "output_type": "execute_result"
    }
   ],
   "source": [
    "products.shape"
   ]
  },
  {
   "cell_type": "code",
   "execution_count": 53,
   "metadata": {},
   "outputs": [
    {
     "data": {
      "text/plain": [
       "(602130, 19)"
      ]
     },
     "execution_count": 53,
     "metadata": {},
     "output_type": "execute_result"
    }
   ],
   "source": [
    "rev1.shape"
   ]
  },
  {
   "cell_type": "code",
   "execution_count": 54,
   "metadata": {},
   "outputs": [
    {
     "data": {
      "text/plain": [
       "(206725, 19)"
      ]
     },
     "execution_count": 54,
     "metadata": {},
     "output_type": "execute_result"
    }
   ],
   "source": [
    "rev2.shape"
   ]
  },
  {
   "cell_type": "code",
   "execution_count": 55,
   "metadata": {},
   "outputs": [
    {
     "data": {
      "text/plain": [
       "(116262, 19)"
      ]
     },
     "execution_count": 55,
     "metadata": {},
     "output_type": "execute_result"
    }
   ],
   "source": [
    "rev3.shape"
   ]
  },
  {
   "cell_type": "code",
   "execution_count": 56,
   "metadata": {},
   "outputs": [
    {
     "data": {
      "text/plain": [
       "(119317, 19)"
      ]
     },
     "execution_count": 56,
     "metadata": {},
     "output_type": "execute_result"
    }
   ],
   "source": [
    "rev4.shape"
   ]
  },
  {
   "cell_type": "code",
   "execution_count": 57,
   "metadata": {},
   "outputs": [
    {
     "data": {
      "text/plain": [
       "(49977, 19)"
      ]
     },
     "execution_count": 57,
     "metadata": {},
     "output_type": "execute_result"
    }
   ],
   "source": [
    "rev5.shape"
   ]
  },
  {
   "cell_type": "markdown",
   "metadata": {},
   "source": [
    "# EDA"
   ]
  },
  {
   "cell_type": "markdown",
   "metadata": {},
   "source": [
    "## Clean the Data"
   ]
  },
  {
   "cell_type": "markdown",
   "metadata": {},
   "source": [
    "### Check for NaN in `review_text`"
   ]
  },
  {
   "cell_type": "code",
   "execution_count": 58,
   "metadata": {},
   "outputs": [
    {
     "name": "stdout",
     "output_type": "stream",
     "text": [
      "review_text\n",
      "<class 'str'>      601131\n",
      "<class 'float'>       999\n",
      "Name: count, dtype: int64\n"
     ]
    }
   ],
   "source": [
    "data_types1 = rev1['review_text'].apply(type).value_counts()\n",
    "print(data_types1)"
   ]
  },
  {
   "cell_type": "code",
   "execution_count": 59,
   "metadata": {},
   "outputs": [
    {
     "name": "stdout",
     "output_type": "stream",
     "text": [
      "review_text\n",
      "<class 'str'>      206553\n",
      "<class 'float'>       172\n",
      "Name: count, dtype: int64\n"
     ]
    }
   ],
   "source": [
    "data_types2 = rev2['review_text'].apply(type).value_counts()\n",
    "print(data_types2)"
   ]
  },
  {
   "cell_type": "code",
   "execution_count": 60,
   "metadata": {},
   "outputs": [
    {
     "name": "stdout",
     "output_type": "stream",
     "text": [
      "review_text\n",
      "<class 'str'>      116137\n",
      "<class 'float'>       125\n",
      "Name: count, dtype: int64\n"
     ]
    }
   ],
   "source": [
    "data_types3 = rev3['review_text'].apply(type).value_counts()\n",
    "print(data_types3)"
   ]
  },
  {
   "cell_type": "code",
   "execution_count": 61,
   "metadata": {},
   "outputs": [
    {
     "name": "stdout",
     "output_type": "stream",
     "text": [
      "review_text\n",
      "<class 'str'>      119228\n",
      "<class 'float'>        89\n",
      "Name: count, dtype: int64\n"
     ]
    }
   ],
   "source": [
    "data_types4 = rev4['review_text'].apply(type).value_counts()\n",
    "print(data_types4)"
   ]
  },
  {
   "cell_type": "code",
   "execution_count": 62,
   "metadata": {},
   "outputs": [
    {
     "name": "stdout",
     "output_type": "stream",
     "text": [
      "review_text\n",
      "<class 'str'>      49918\n",
      "<class 'float'>       59\n",
      "Name: count, dtype: int64\n"
     ]
    }
   ],
   "source": [
    "data_types = rev5['review_text'].apply(type).value_counts()\n",
    "print(data_types)"
   ]
  },
  {
   "cell_type": "markdown",
   "metadata": {},
   "source": [
    "There are NaN entries in `review_text` and `review_title`. We remove them."
   ]
  },
  {
   "cell_type": "code",
   "execution_count": 76,
   "metadata": {},
   "outputs": [],
   "source": [
    "clean_rev1 = rev1.dropna(subset=['review_text'])\n",
    "clean_rev2 = rev2.dropna(subset=['review_text'])\n",
    "clean_rev3 = rev3.dropna(subset=['review_text'])\n",
    "clean_rev4 = rev4.dropna(subset=['review_text'])\n",
    "clean_rev5 = rev5.dropna(subset=['review_text'])"
   ]
  },
  {
   "cell_type": "markdown",
   "metadata": {},
   "source": [
    "Check for the data type. At this point it should only contain strings."
   ]
  },
  {
   "cell_type": "code",
   "execution_count": 65,
   "metadata": {},
   "outputs": [
    {
     "name": "stdout",
     "output_type": "stream",
     "text": [
      "review_text\n",
      "<class 'str'>    601131\n",
      "Name: count, dtype: int64\n"
     ]
    }
   ],
   "source": [
    "data_types1 = clean_rev1['review_text'].apply(type).value_counts()\n",
    "print(data_types)"
   ]
  },
  {
   "cell_type": "markdown",
   "metadata": {},
   "source": [
    "### Determine Needed Features"
   ]
  },
  {
   "cell_type": "code",
   "execution_count": 66,
   "metadata": {},
   "outputs": [],
   "source": [
    "essential_features = ['review_id',\n",
    "                      'review_text',        # most critical, body of text\n",
    "                      'product_id']         # will be important for the whole recommendation system\n",
    "\n",
    "enhancing_features = ['rating',             # might help\n",
    "                      'review_title',       # can also be analyzed\n",
    "                      'is_recommended',\n",
    "                      'author_id']     # can be used to quickly analyze sentiment ***\n",
    "                          \n",
    "\n",
    "further_features = ['submission_time',              # sentiment change over time\n",
    "                    'helpfulness',\n",
    "                    'total_feedback_count',\n",
    "                    'total_neg_feedback_count',     # can give context to weight and reception of review\n",
    "                    'skin_tone',\n",
    "                    'eye_color',\n",
    "                    'skin_type',\n",
    "                    'hair_color',                   # if we use personalization later\n",
    "                    'brand_name',\n",
    "                    'price_usd']                    # sentiment across brands or price ranges"
   ]
  },
  {
   "cell_type": "markdown",
   "metadata": {},
   "source": [
    "### Prepare Essential DataFrames"
   ]
  },
  {
   "cell_type": "code",
   "execution_count": 79,
   "metadata": {},
   "outputs": [],
   "source": [
    "esn1 = clean_rev1[essential_features + enhancing_features].copy()\n",
    "esn2 = clean_rev2[essential_features + enhancing_features].copy()\n",
    "esn3 = clean_rev3[essential_features + enhancing_features].copy()\n",
    "esn4 = clean_rev4[essential_features + enhancing_features].copy()\n",
    "esn5 = clean_rev5[essential_features + enhancing_features].copy()"
   ]
  },
  {
   "cell_type": "code",
   "execution_count": 68,
   "metadata": {},
   "outputs": [
    {
     "data": {
      "text/html": [
       "<div>\n",
       "<style scoped>\n",
       "    .dataframe tbody tr th:only-of-type {\n",
       "        vertical-align: middle;\n",
       "    }\n",
       "\n",
       "    .dataframe tbody tr th {\n",
       "        vertical-align: top;\n",
       "    }\n",
       "\n",
       "    .dataframe thead th {\n",
       "        text-align: right;\n",
       "    }\n",
       "</style>\n",
       "<table border=\"1\" class=\"dataframe\">\n",
       "  <thead>\n",
       "    <tr style=\"text-align: right;\">\n",
       "      <th></th>\n",
       "      <th>review_id</th>\n",
       "      <th>review_text</th>\n",
       "      <th>product_id</th>\n",
       "      <th>rating</th>\n",
       "      <th>review_title</th>\n",
       "      <th>is_recommended</th>\n",
       "      <th>author_id</th>\n",
       "    </tr>\n",
       "  </thead>\n",
       "  <tbody>\n",
       "    <tr>\n",
       "      <th>0</th>\n",
       "      <td>0</td>\n",
       "      <td>I use this with the Nudestix “Citrus Clean Bal...</td>\n",
       "      <td>P504322</td>\n",
       "      <td>5</td>\n",
       "      <td>Taught me how to double cleanse!</td>\n",
       "      <td>1.0</td>\n",
       "      <td>1741593524</td>\n",
       "    </tr>\n",
       "    <tr>\n",
       "      <th>1</th>\n",
       "      <td>1</td>\n",
       "      <td>I bought this lip mask after reading the revie...</td>\n",
       "      <td>P420652</td>\n",
       "      <td>1</td>\n",
       "      <td>Disappointed</td>\n",
       "      <td>0.0</td>\n",
       "      <td>31423088263</td>\n",
       "    </tr>\n",
       "    <tr>\n",
       "      <th>2</th>\n",
       "      <td>2</td>\n",
       "      <td>My review title says it all! I get so excited ...</td>\n",
       "      <td>P420652</td>\n",
       "      <td>5</td>\n",
       "      <td>New Favorite Routine</td>\n",
       "      <td>1.0</td>\n",
       "      <td>5061282401</td>\n",
       "    </tr>\n",
       "    <tr>\n",
       "      <th>3</th>\n",
       "      <td>3</td>\n",
       "      <td>I’ve always loved this formula for a long time...</td>\n",
       "      <td>P420652</td>\n",
       "      <td>5</td>\n",
       "      <td>Can't go wrong with any of them</td>\n",
       "      <td>1.0</td>\n",
       "      <td>6083038851</td>\n",
       "    </tr>\n",
       "    <tr>\n",
       "      <th>4</th>\n",
       "      <td>4</td>\n",
       "      <td>If you have dry cracked lips, this is a must h...</td>\n",
       "      <td>P420652</td>\n",
       "      <td>5</td>\n",
       "      <td>A must have !!!</td>\n",
       "      <td>1.0</td>\n",
       "      <td>47056667835</td>\n",
       "    </tr>\n",
       "  </tbody>\n",
       "</table>\n",
       "</div>"
      ],
      "text/plain": [
       "   review_id                                        review_text product_id  \\\n",
       "0          0  I use this with the Nudestix “Citrus Clean Bal...    P504322   \n",
       "1          1  I bought this lip mask after reading the revie...    P420652   \n",
       "2          2  My review title says it all! I get so excited ...    P420652   \n",
       "3          3  I’ve always loved this formula for a long time...    P420652   \n",
       "4          4  If you have dry cracked lips, this is a must h...    P420652   \n",
       "\n",
       "   rating                      review_title  is_recommended    author_id  \n",
       "0       5  Taught me how to double cleanse!             1.0   1741593524  \n",
       "1       1                      Disappointed             0.0  31423088263  \n",
       "2       5              New Favorite Routine             1.0   5061282401  \n",
       "3       5   Can't go wrong with any of them             1.0   6083038851  \n",
       "4       5                   A must have !!!             1.0  47056667835  "
      ]
     },
     "execution_count": 68,
     "metadata": {},
     "output_type": "execute_result"
    }
   ],
   "source": [
    "esn1.head()"
   ]
  },
  {
   "cell_type": "markdown",
   "metadata": {},
   "source": [
    "### Clean Special Characters From Reviews"
   ]
  },
  {
   "cell_type": "code",
   "execution_count": 71,
   "metadata": {},
   "outputs": [],
   "source": [
    "# Regex approach to remove any special characters other than alphabet, numbers and whitespace\n",
    "# but we might need basic smiley emoticons like :), :(, etc.\n",
    "\n",
    "#df_essential['review_text'] = df_essential['review_text'].str.lower().replace('[^a-z0-9\\s]', '', regex=True)"
   ]
  },
  {
   "cell_type": "markdown",
   "metadata": {},
   "source": [
    "Here is hopefully a better approach to remove unwanted characters while keeping the emoticons which actually contribute to the sentiment analysis. For example:\n",
    "\n",
    "Without proper handling following reviews might be treated wrongly\n",
    "\n",
    "`\"I love this product:)\"`\n",
    "\n",
    "`\":)great product\"`\n",
    "\n",
    "In those cases they might get split into words and we might end up with words like \n",
    "\n",
    "`\"product:)\"`\n",
    "and\n",
    "`\":)great\"`\n",
    "\n",
    "Or even the combined cases such as:\n",
    "\n",
    "`\"I love this product:)great\"`\n",
    "\n",
    "will be separated into first:\n",
    "\n",
    "`\"I love this product :)great\"`\n",
    "\n",
    "and then \n",
    "\n",
    "`\"I love this product :) great\"`"
   ]
  },
  {
   "cell_type": "markdown",
   "metadata": {},
   "source": [
    "The following function aims to make sure emoticons are separated from the words:"
   ]
  },
  {
   "cell_type": "code",
   "execution_count": 72,
   "metadata": {},
   "outputs": [],
   "source": [
    "# Function to clean text and preserve emoticons\n",
    "def clean_text(text):\n",
    "    emoticons = r\"(:\\)|:\\(|;\\)|:D|:P)\"\n",
    "\n",
    "    # Separate emoticons from text\n",
    "    # Ensure space between words and emoticons\n",
    "    clean_txt = re.sub(r'([a-z0-9])([:;][()DP])', r'\\1 \\2', text.lower())\n",
    "    # Ensure space between emoticons and words\n",
    "    clean_txt = re.sub(r'([:;][()DP])([a-z0-9])', r'\\1 \\2', clean_txt)\n",
    "    \n",
    "    # Retain letters, numbers, spaces, basic emoticons, and certain punctuation marks\n",
    "    clean_txt = re.sub(r'[^a-z0-9\\s:;()DP!?\\'\\.,’]', '', clean_txt)\n",
    "    \n",
    "    return clean_txt"
   ]
  },
  {
   "cell_type": "markdown",
   "metadata": {},
   "source": [
    "Applying the function to the DataFrame"
   ]
  },
  {
   "cell_type": "code",
   "execution_count": 80,
   "metadata": {},
   "outputs": [],
   "source": [
    "esn1['clean_text'] = esn1['review_text'].apply(clean_text)\n",
    "esn2['clean_text'] = esn2['review_text'].apply(clean_text)\n",
    "esn3['clean_text'] = esn3['review_text'].apply(clean_text)\n",
    "esn4['clean_text'] = esn4['review_text'].apply(clean_text)\n",
    "esn5['clean_text'] = esn5['review_text'].apply(clean_text)"
   ]
  },
  {
   "cell_type": "code",
   "execution_count": 74,
   "metadata": {},
   "outputs": [
    {
     "data": {
      "text/html": [
       "<div>\n",
       "<style scoped>\n",
       "    .dataframe tbody tr th:only-of-type {\n",
       "        vertical-align: middle;\n",
       "    }\n",
       "\n",
       "    .dataframe tbody tr th {\n",
       "        vertical-align: top;\n",
       "    }\n",
       "\n",
       "    .dataframe thead th {\n",
       "        text-align: right;\n",
       "    }\n",
       "</style>\n",
       "<table border=\"1\" class=\"dataframe\">\n",
       "  <thead>\n",
       "    <tr style=\"text-align: right;\">\n",
       "      <th></th>\n",
       "      <th>review_id</th>\n",
       "      <th>review_text</th>\n",
       "      <th>product_id</th>\n",
       "      <th>rating</th>\n",
       "      <th>review_title</th>\n",
       "      <th>is_recommended</th>\n",
       "      <th>author_id</th>\n",
       "      <th>clean_text</th>\n",
       "    </tr>\n",
       "  </thead>\n",
       "  <tbody>\n",
       "    <tr>\n",
       "      <th>0</th>\n",
       "      <td>0</td>\n",
       "      <td>I use this with the Nudestix “Citrus Clean Bal...</td>\n",
       "      <td>P504322</td>\n",
       "      <td>5</td>\n",
       "      <td>Taught me how to double cleanse!</td>\n",
       "      <td>1.0</td>\n",
       "      <td>1741593524</td>\n",
       "      <td>i use this with the nudestix citrus clean balm...</td>\n",
       "    </tr>\n",
       "    <tr>\n",
       "      <th>1</th>\n",
       "      <td>1</td>\n",
       "      <td>I bought this lip mask after reading the revie...</td>\n",
       "      <td>P420652</td>\n",
       "      <td>1</td>\n",
       "      <td>Disappointed</td>\n",
       "      <td>0.0</td>\n",
       "      <td>31423088263</td>\n",
       "      <td>i bought this lip mask after reading the revie...</td>\n",
       "    </tr>\n",
       "    <tr>\n",
       "      <th>2</th>\n",
       "      <td>2</td>\n",
       "      <td>My review title says it all! I get so excited ...</td>\n",
       "      <td>P420652</td>\n",
       "      <td>5</td>\n",
       "      <td>New Favorite Routine</td>\n",
       "      <td>1.0</td>\n",
       "      <td>5061282401</td>\n",
       "      <td>my review title says it all! i get so excited ...</td>\n",
       "    </tr>\n",
       "    <tr>\n",
       "      <th>3</th>\n",
       "      <td>3</td>\n",
       "      <td>I’ve always loved this formula for a long time...</td>\n",
       "      <td>P420652</td>\n",
       "      <td>5</td>\n",
       "      <td>Can't go wrong with any of them</td>\n",
       "      <td>1.0</td>\n",
       "      <td>6083038851</td>\n",
       "      <td>i’ve always loved this formula for a long time...</td>\n",
       "    </tr>\n",
       "    <tr>\n",
       "      <th>4</th>\n",
       "      <td>4</td>\n",
       "      <td>If you have dry cracked lips, this is a must h...</td>\n",
       "      <td>P420652</td>\n",
       "      <td>5</td>\n",
       "      <td>A must have !!!</td>\n",
       "      <td>1.0</td>\n",
       "      <td>47056667835</td>\n",
       "      <td>if you have dry cracked lips, this is a must h...</td>\n",
       "    </tr>\n",
       "  </tbody>\n",
       "</table>\n",
       "</div>"
      ],
      "text/plain": [
       "   review_id                                        review_text product_id  \\\n",
       "0          0  I use this with the Nudestix “Citrus Clean Bal...    P504322   \n",
       "1          1  I bought this lip mask after reading the revie...    P420652   \n",
       "2          2  My review title says it all! I get so excited ...    P420652   \n",
       "3          3  I’ve always loved this formula for a long time...    P420652   \n",
       "4          4  If you have dry cracked lips, this is a must h...    P420652   \n",
       "\n",
       "   rating                      review_title  is_recommended    author_id  \\\n",
       "0       5  Taught me how to double cleanse!             1.0   1741593524   \n",
       "1       1                      Disappointed             0.0  31423088263   \n",
       "2       5              New Favorite Routine             1.0   5061282401   \n",
       "3       5   Can't go wrong with any of them             1.0   6083038851   \n",
       "4       5                   A must have !!!             1.0  47056667835   \n",
       "\n",
       "                                          clean_text  \n",
       "0  i use this with the nudestix citrus clean balm...  \n",
       "1  i bought this lip mask after reading the revie...  \n",
       "2  my review title says it all! i get so excited ...  \n",
       "3  i’ve always loved this formula for a long time...  \n",
       "4  if you have dry cracked lips, this is a must h...  "
      ]
     },
     "execution_count": 74,
     "metadata": {},
     "output_type": "execute_result"
    }
   ],
   "source": [
    "esn1.head()"
   ]
  },
  {
   "cell_type": "markdown",
   "metadata": {},
   "source": [
    "### Check for Empty Reviews After Cleaning"
   ]
  },
  {
   "cell_type": "code",
   "execution_count": 81,
   "metadata": {},
   "outputs": [
    {
     "name": "stdout",
     "output_type": "stream",
     "text": [
      "Number of empty reviews after cleaning: 3\n"
     ]
    }
   ],
   "source": [
    "empty1 = esn1['clean_text'].str.strip().replace('', pd.NA)\n",
    "esn1['clean_text'] = empty1\n",
    "\n",
    "empty_count1 = esn1['clean_text'].isna().sum()\n",
    "print(f\"Number of empty reviews after cleaning: {empty_count1}\")"
   ]
  },
  {
   "cell_type": "code",
   "execution_count": 82,
   "metadata": {},
   "outputs": [
    {
     "name": "stdout",
     "output_type": "stream",
     "text": [
      "Number of empty reviews after cleaning: 0\n"
     ]
    }
   ],
   "source": [
    "empty2 = esn2['clean_text'].str.strip().replace('', pd.NA)\n",
    "esn2['clean_text'] = empty2\n",
    "\n",
    "empty_count2 = esn2['clean_text'].isna().sum()\n",
    "print(f\"Number of empty reviews after cleaning: {empty_count2}\")"
   ]
  },
  {
   "cell_type": "code",
   "execution_count": 83,
   "metadata": {},
   "outputs": [
    {
     "name": "stdout",
     "output_type": "stream",
     "text": [
      "Number of empty reviews after cleaning: 2\n"
     ]
    }
   ],
   "source": [
    "empty3 = esn3['clean_text'].str.strip().replace('', pd.NA)\n",
    "esn3['clean_text'] = empty3\n",
    "\n",
    "empty_count3 = esn3['clean_text'].isna().sum()\n",
    "print(f\"Number of empty reviews after cleaning: {empty_count3}\")"
   ]
  },
  {
   "cell_type": "code",
   "execution_count": 84,
   "metadata": {},
   "outputs": [
    {
     "name": "stdout",
     "output_type": "stream",
     "text": [
      "Number of empty reviews after cleaning: 0\n"
     ]
    }
   ],
   "source": [
    "empty4 = esn4['clean_text'].str.strip().replace('', pd.NA)\n",
    "esn4['clean_text'] = empty4\n",
    "\n",
    "empty_count4 = esn4['clean_text'].isna().sum()\n",
    "print(f\"Number of empty reviews after cleaning: {empty_count4}\")"
   ]
  },
  {
   "cell_type": "code",
   "execution_count": 85,
   "metadata": {},
   "outputs": [
    {
     "name": "stdout",
     "output_type": "stream",
     "text": [
      "Number of empty reviews after cleaning: 0\n"
     ]
    }
   ],
   "source": [
    "empty5 = esn5['clean_text'].str.strip().replace('', pd.NA)\n",
    "esn5['clean_text'] = empty5\n",
    "\n",
    "empty_count5 = esn5['clean_text'].isna().sum()\n",
    "print(f\"Number of empty reviews after cleaning: {empty_count5}\")"
   ]
  },
  {
   "cell_type": "code",
   "execution_count": 87,
   "metadata": {},
   "outputs": [
    {
     "name": "stdout",
     "output_type": "stream",
     "text": [
      "clean_text\n",
      "<class 'str'>                            601128\n",
      "<class 'pandas._libs.missing.NAType'>         3\n",
      "Name: count, dtype: int64\n"
     ]
    }
   ],
   "source": [
    "data_types11 = esn1['clean_text'].apply(type).value_counts()\n",
    "print(data_types11)"
   ]
  },
  {
   "cell_type": "markdown",
   "metadata": {},
   "source": [
    "Remove empty reviews after cleaning"
   ]
  },
  {
   "cell_type": "code",
   "execution_count": 92,
   "metadata": {},
   "outputs": [],
   "source": [
    "esn1 = esn1.dropna(subset=['clean_text'])\n",
    "esn2 = esn2.dropna(subset=['clean_text'])\n",
    "esn3 = esn3.dropna(subset=['clean_text'])\n",
    "esn4 = esn4.dropna(subset=['clean_text'])\n",
    "esn5 = esn5.dropna(subset=['clean_text'])\n"
   ]
  },
  {
   "cell_type": "code",
   "execution_count": 94,
   "metadata": {},
   "outputs": [
    {
     "name": "stdout",
     "output_type": "stream",
     "text": [
      "DataFrame esn1 has 0 empty or NaN values in the 'clean_text' column.\n",
      "No empty or NaN values found in esn1.\n",
      "\n",
      "DataFrame esn2 has 0 empty or NaN values in the 'clean_text' column.\n",
      "No empty or NaN values found in esn2.\n",
      "\n",
      "DataFrame esn3 has 0 empty or NaN values in the 'clean_text' column.\n",
      "No empty or NaN values found in esn3.\n",
      "\n",
      "DataFrame esn4 has 0 empty or NaN values in the 'clean_text' column.\n",
      "No empty or NaN values found in esn4.\n",
      "\n",
      "DataFrame esn5 has 0 empty or NaN values in the 'clean_text' column.\n",
      "No empty or NaN values found in esn5.\n",
      "\n"
     ]
    }
   ],
   "source": [
    "# List of DataFrames\n",
    "dataframes = [esn1, esn2, esn3, esn4, esn5]\n",
    "\n",
    "# Loop through each DataFrame and check for empty values in 'clean_text' column\n",
    "for i, df in enumerate(dataframes, start=1):\n",
    "    # Check for empty or NaN values in 'clean_text' column\n",
    "    empty_values = df['clean_text'].isna() | df['clean_text'].str.strip().eq('')\n",
    "    \n",
    "    # Count the number of empty or NaN values\n",
    "    empty_count = empty_values.sum()\n",
    "    \n",
    "    # Print the results\n",
    "    print(f\"DataFrame esn{i} has {empty_count} empty or NaN values in the 'clean_text' column.\")\n",
    "    \n",
    "    # Optionally, you can print the indices of the empty values\n",
    "    if empty_count > 0:\n",
    "        empty_indices = df[empty_values].index.tolist()\n",
    "        print(f\"Indices of empty or NaN values in esn{i}: {empty_indices}\\n\")\n",
    "    else:\n",
    "        print(f\"No empty or NaN values found in esn{i}.\\n\")"
   ]
  },
  {
   "cell_type": "markdown",
   "metadata": {},
   "source": [
    "### Check for Duplicates"
   ]
  },
  {
   "cell_type": "markdown",
   "metadata": {},
   "source": [
    "Here the approach is to remove duplicate:\n",
    "\n",
    "- Same product_id \n",
    "- Same author_id\n",
    "- Same review_text      -> Remove"
   ]
  },
  {
   "cell_type": "code",
   "execution_count": 97,
   "metadata": {},
   "outputs": [
    {
     "name": "stdout",
     "output_type": "stream",
     "text": [
      "DataFrame esn1 has 0 duplicate reviews based on 'author_id', 'product_id', and 'review_text'.\n",
      "No duplicate reviews found in esn1.\n",
      "\n",
      "DataFrame esn2 has 0 duplicate reviews based on 'author_id', 'product_id', and 'review_text'.\n",
      "No duplicate reviews found in esn2.\n",
      "\n",
      "DataFrame esn3 has 0 duplicate reviews based on 'author_id', 'product_id', and 'review_text'.\n",
      "No duplicate reviews found in esn3.\n",
      "\n",
      "DataFrame esn4 has 0 duplicate reviews based on 'author_id', 'product_id', and 'review_text'.\n",
      "No duplicate reviews found in esn4.\n",
      "\n",
      "DataFrame esn5 has 0 duplicate reviews based on 'author_id', 'product_id', and 'review_text'.\n",
      "No duplicate reviews found in esn5.\n",
      "\n"
     ]
    }
   ],
   "source": [
    "# List of DataFrames\n",
    "dataframes = [esn1, esn2, esn3, esn4, esn5]\n",
    "\n",
    "# Loop through each DataFrame and check for duplicate reviews\n",
    "for i, df in enumerate(dataframes, start=1):\n",
    "    # Check for duplicates based on 'author_id', 'product_id', and 'review_text'\n",
    "    duplicates = df.duplicated(subset=['author_id', 'product_id', 'review_text'], keep=False)\n",
    "    \n",
    "    # Count the number of duplicate rows\n",
    "    duplicate_count = duplicates.sum()\n",
    "    \n",
    "    # Print the results\n",
    "    print(f\"DataFrame esn{i} has {duplicate_count} duplicate reviews based on 'author_id', 'product_id', and 'review_text'.\")\n",
    "    \n",
    "    # Optionally, you can print the indices of the duplicate reviews\n",
    "    if duplicate_count > 0:\n",
    "        duplicate_indices = df[duplicates].index.tolist()\n",
    "        print(f\"Indices of duplicate reviews in esn{i}: {duplicate_indices}\\n\")\n",
    "    else:\n",
    "        print(f\"No duplicate reviews found in esn{i}.\\n\")"
   ]
  },
  {
   "cell_type": "code",
   "execution_count": 96,
   "metadata": {},
   "outputs": [
    {
     "name": "stdout",
     "output_type": "stream",
     "text": [
      "DataFrame esn1: Removed 306 duplicate reviews.\n",
      "DataFrame esn2: Removed 125 duplicate reviews.\n",
      "DataFrame esn3: Removed 105 duplicate reviews.\n",
      "DataFrame esn4: Removed 15 duplicate reviews.\n",
      "DataFrame esn5: Removed 5 duplicate reviews.\n"
     ]
    }
   ],
   "source": [
    "# Loop through each DataFrame and remove duplicate reviews\n",
    "for i, df in enumerate(dataframes, start=1):\n",
    "    # Before removing duplicates, check how many there are\n",
    "    initial_count = len(df)\n",
    "    \n",
    "    # Remove duplicates based on 'author_id', 'product_id', and 'review_text'\n",
    "    df.drop_duplicates(subset=['author_id', 'product_id', 'review_text'], keep='first', inplace=True)\n",
    "    \n",
    "    # After removing duplicates, check how many were removed\n",
    "    final_count = len(df)\n",
    "    removed_count = initial_count - final_count\n",
    "    \n",
    "    # Print the results\n",
    "    print(f\"DataFrame esn{i}: Removed {removed_count} duplicate reviews.\")"
   ]
  },
  {
   "cell_type": "markdown",
   "metadata": {},
   "source": [
    "### Brief Summary So Far"
   ]
  },
  {
   "cell_type": "markdown",
   "metadata": {},
   "source": [
    "1. Checked the datasets and merged the reviews into one DataFrame\n",
    "2. Categorized the features\n",
    "3. Cleaned special characters (like #)\n",
    "4. Removed duplicate reviews from the same person for the same product "
   ]
  },
  {
   "cell_type": "markdown",
   "metadata": {},
   "source": [
    "## Basic Visualization of the Data"
   ]
  },
  {
   "cell_type": "code",
   "execution_count": 98,
   "metadata": {},
   "outputs": [],
   "source": [
    "# Concatenate esn1 to esn5 into a single DataFrame\n",
    "combined_df = pd.concat([esn1, esn2, esn3, esn4, esn5], ignore_index=True)"
   ]
  },
  {
   "cell_type": "code",
   "execution_count": 99,
   "metadata": {},
   "outputs": [
    {
     "data": {
      "text/plain": [
       "(1092406, 8)"
      ]
     },
     "execution_count": 99,
     "metadata": {},
     "output_type": "execute_result"
    }
   ],
   "source": [
    "combined_df.shape"
   ]
  },
  {
   "cell_type": "code",
   "execution_count": 100,
   "metadata": {},
   "outputs": [
    {
     "data": {
      "text/html": [
       "<div>\n",
       "<style scoped>\n",
       "    .dataframe tbody tr th:only-of-type {\n",
       "        vertical-align: middle;\n",
       "    }\n",
       "\n",
       "    .dataframe tbody tr th {\n",
       "        vertical-align: top;\n",
       "    }\n",
       "\n",
       "    .dataframe thead th {\n",
       "        text-align: right;\n",
       "    }\n",
       "</style>\n",
       "<table border=\"1\" class=\"dataframe\">\n",
       "  <thead>\n",
       "    <tr style=\"text-align: right;\">\n",
       "      <th></th>\n",
       "      <th>review_id</th>\n",
       "      <th>review_text</th>\n",
       "      <th>product_id</th>\n",
       "      <th>rating</th>\n",
       "      <th>review_title</th>\n",
       "      <th>is_recommended</th>\n",
       "      <th>author_id</th>\n",
       "      <th>clean_text</th>\n",
       "    </tr>\n",
       "  </thead>\n",
       "  <tbody>\n",
       "    <tr>\n",
       "      <th>0</th>\n",
       "      <td>0</td>\n",
       "      <td>I use this with the Nudestix “Citrus Clean Bal...</td>\n",
       "      <td>P504322</td>\n",
       "      <td>5</td>\n",
       "      <td>Taught me how to double cleanse!</td>\n",
       "      <td>1.0</td>\n",
       "      <td>1741593524</td>\n",
       "      <td>i use this with the nudestix citrus clean balm...</td>\n",
       "    </tr>\n",
       "    <tr>\n",
       "      <th>1</th>\n",
       "      <td>1</td>\n",
       "      <td>I bought this lip mask after reading the revie...</td>\n",
       "      <td>P420652</td>\n",
       "      <td>1</td>\n",
       "      <td>Disappointed</td>\n",
       "      <td>0.0</td>\n",
       "      <td>31423088263</td>\n",
       "      <td>i bought this lip mask after reading the revie...</td>\n",
       "    </tr>\n",
       "    <tr>\n",
       "      <th>2</th>\n",
       "      <td>2</td>\n",
       "      <td>My review title says it all! I get so excited ...</td>\n",
       "      <td>P420652</td>\n",
       "      <td>5</td>\n",
       "      <td>New Favorite Routine</td>\n",
       "      <td>1.0</td>\n",
       "      <td>5061282401</td>\n",
       "      <td>my review title says it all! i get so excited ...</td>\n",
       "    </tr>\n",
       "    <tr>\n",
       "      <th>3</th>\n",
       "      <td>3</td>\n",
       "      <td>I’ve always loved this formula for a long time...</td>\n",
       "      <td>P420652</td>\n",
       "      <td>5</td>\n",
       "      <td>Can't go wrong with any of them</td>\n",
       "      <td>1.0</td>\n",
       "      <td>6083038851</td>\n",
       "      <td>i’ve always loved this formula for a long time...</td>\n",
       "    </tr>\n",
       "    <tr>\n",
       "      <th>4</th>\n",
       "      <td>4</td>\n",
       "      <td>If you have dry cracked lips, this is a must h...</td>\n",
       "      <td>P420652</td>\n",
       "      <td>5</td>\n",
       "      <td>A must have !!!</td>\n",
       "      <td>1.0</td>\n",
       "      <td>47056667835</td>\n",
       "      <td>if you have dry cracked lips, this is a must h...</td>\n",
       "    </tr>\n",
       "  </tbody>\n",
       "</table>\n",
       "</div>"
      ],
      "text/plain": [
       "   review_id                                        review_text product_id  \\\n",
       "0          0  I use this with the Nudestix “Citrus Clean Bal...    P504322   \n",
       "1          1  I bought this lip mask after reading the revie...    P420652   \n",
       "2          2  My review title says it all! I get so excited ...    P420652   \n",
       "3          3  I’ve always loved this formula for a long time...    P420652   \n",
       "4          4  If you have dry cracked lips, this is a must h...    P420652   \n",
       "\n",
       "   rating                      review_title  is_recommended    author_id  \\\n",
       "0       5  Taught me how to double cleanse!             1.0   1741593524   \n",
       "1       1                      Disappointed             0.0  31423088263   \n",
       "2       5              New Favorite Routine             1.0   5061282401   \n",
       "3       5   Can't go wrong with any of them             1.0   6083038851   \n",
       "4       5                   A must have !!!             1.0  47056667835   \n",
       "\n",
       "                                          clean_text  \n",
       "0  i use this with the nudestix citrus clean balm...  \n",
       "1  i bought this lip mask after reading the revie...  \n",
       "2  my review title says it all! i get so excited ...  \n",
       "3  i’ve always loved this formula for a long time...  \n",
       "4  if you have dry cracked lips, this is a must h...  "
      ]
     },
     "execution_count": 100,
     "metadata": {},
     "output_type": "execute_result"
    }
   ],
   "source": [
    "combined_df.head()"
   ]
  },
  {
   "cell_type": "code",
   "execution_count": 104,
   "metadata": {},
   "outputs": [
    {
     "data": {
      "image/png": "[encoded data removed]",
      "text/plain": [
       "<Figure size 1000x500 with 1 Axes>"
      ]
     },
     "metadata": {},
     "output_type": "display_data"
    }
   ],
   "source": [
    "ax = combined_df['rating'].value_counts().sort_index() \\\n",
    "    .plot(kind='bar',\n",
    "          title='Count of Reviews by Rating',\n",
    "          figsize=(10, 5))\n",
    "ax.set_xlabel('Review Rating')\n",
    "plt.xticks(rotation=0)\n",
    "plt.show()"
   ]
  },
  {
   "cell_type": "code",
   "execution_count": 105,
   "metadata": {},
   "outputs": [
    {
     "data": {
      "image/png": "[encoded data removed]",
      "text/plain": [
       "<Figure size 1000x500 with 1 Axes>"
      ]
     },
     "metadata": {},
     "output_type": "display_data"
    }
   ],
   "source": [
    "ax = combined_df['is_recommended'].value_counts().sort_index() \\\n",
    "    .plot(kind='bar',\n",
    "          title='Count of Recommended Products',\n",
    "          figsize=(10, 5))\n",
    "ax.set_xlabel('Recommended')\n",
    "plt.xticks(rotation=0)\n",
    "plt.show()"
   ]
  },
  {
   "cell_type": "markdown",
   "metadata": {},
   "source": [
    "## NLP Basics"
   ]
  },
  {
   "cell_type": "markdown",
   "metadata": {},
   "source": [
    "Example review"
   ]
  },
  {
   "cell_type": "code",
   "execution_count": 113,
   "metadata": {},
   "outputs": [
    {
     "name": "stdout",
     "output_type": "stream",
     "text": [
      "this feels amazing and so soft when you first use it. and it smells amazing! but after continued use, it dried out my already dry lips. it seems hydrating, but it tricks you and just dries it out later. so many better lip products like kosas lipfuel\n"
     ]
    }
   ],
   "source": [
    "example = combined_df['review_text'][1337]\n",
    "print(example)"
   ]
  },
  {
   "cell_type": "markdown",
   "metadata": {},
   "source": [
    "Tokenization"
   ]
  },
  {
   "cell_type": "code",
   "execution_count": 115,
   "metadata": {},
   "outputs": [
    {
     "name": "stderr",
     "output_type": "stream",
     "text": [
      "[nltk_data] Downloading package punkt_tab to\n",
      "[nltk_data]     /Users/jabbawocka/nltk_data...\n",
      "[nltk_data]   Unzipping tokenizers/punkt_tab.zip.\n"
     ]
    },
    {
     "data": {
      "text/plain": [
       "True"
      ]
     },
     "execution_count": 115,
     "metadata": {},
     "output_type": "execute_result"
    }
   ],
   "source": [
    "nltk.download('punkt_tab')"
   ]
  },
  {
   "cell_type": "code",
   "execution_count": 116,
   "metadata": {},
   "outputs": [
    {
     "data": {
      "text/plain": [
       "['this',\n",
       " 'feels',\n",
       " 'amazing',\n",
       " 'and',\n",
       " 'so',\n",
       " 'soft',\n",
       " 'when',\n",
       " 'you',\n",
       " 'first',\n",
       " 'use']"
      ]
     },
     "execution_count": 116,
     "metadata": {},
     "output_type": "execute_result"
    }
   ],
   "source": [
    "tokens = nltk.word_tokenize(example)\n",
    "tokens[:10]"
   ]
  },
  {
   "cell_type": "markdown",
   "metadata": {},
   "source": [
    "POS-Tagging"
   ]
  },
  {
   "cell_type": "code",
   "execution_count": 118,
   "metadata": {},
   "outputs": [
    {
     "name": "stderr",
     "output_type": "stream",
     "text": [
      "[nltk_data] Downloading package averaged_perceptron_tagger_eng to\n",
      "[nltk_data]     /Users/jabbawocka/nltk_data...\n",
      "[nltk_data]   Unzipping taggers/averaged_perceptron_tagger_eng.zip.\n"
     ]
    },
    {
     "data": {
      "text/plain": [
       "True"
      ]
     },
     "execution_count": 118,
     "metadata": {},
     "output_type": "execute_result"
    }
   ],
   "source": [
    "nltk.download('averaged_perceptron_tagger_eng')"
   ]
  },
  {
   "cell_type": "code",
   "execution_count": 119,
   "metadata": {},
   "outputs": [
    {
     "data": {
      "text/plain": [
       "[('this', 'DT'),\n",
       " ('feels', 'VBZ'),\n",
       " ('amazing', 'JJ'),\n",
       " ('and', 'CC'),\n",
       " ('so', 'RB'),\n",
       " ('soft', 'JJ'),\n",
       " ('when', 'WRB'),\n",
       " ('you', 'PRP'),\n",
       " ('first', 'RB'),\n",
       " ('use', 'VB')]"
      ]
     },
     "execution_count": 119,
     "metadata": {},
     "output_type": "execute_result"
    }
   ],
   "source": [
    "tagged = nltk.pos_tag(tokens)\n",
    "tagged[:10]"
   ]
  },
  {
   "cell_type": "code",
   "execution_count": 120,
   "metadata": {},
   "outputs": [
    {
     "name": "stderr",
     "output_type": "stream",
     "text": [
      "[nltk_data] Downloading package maxent_ne_chunker to\n",
      "[nltk_data]     /Users/jabbawocka/nltk_data...\n",
      "[nltk_data]   Package maxent_ne_chunker is already up-to-date!\n"
     ]
    },
    {
     "data": {
      "text/plain": [
       "True"
      ]
     },
     "execution_count": 120,
     "metadata": {},
     "output_type": "execute_result"
    }
   ],
   "source": [
    "nltk.download('maxent_ne_chunker')"
   ]
  },
  {
   "cell_type": "code",
   "execution_count": 123,
   "metadata": {},
   "outputs": [
    {
     "name": "stderr",
     "output_type": "stream",
     "text": [
      "[nltk_data] Downloading package maxent_ne_chunker_tab to\n",
      "[nltk_data]     /Users/jabbawocka/nltk_data...\n",
      "[nltk_data]   Unzipping chunkers/maxent_ne_chunker_tab.zip.\n"
     ]
    },
    {
     "data": {
      "text/plain": [
       "True"
      ]
     },
     "execution_count": 123,
     "metadata": {},
     "output_type": "execute_result"
    }
   ],
   "source": [
    "nltk.download('maxent_ne_chunker_tab')"
   ]
  },
  {
   "cell_type": "code",
   "execution_count": 121,
   "metadata": {},
   "outputs": [
    {
     "name": "stderr",
     "output_type": "stream",
     "text": [
      "[nltk_data] Downloading package words to\n",
      "[nltk_data]     /Users/jabbawocka/nltk_data...\n",
      "[nltk_data]   Package words is already up-to-date!\n"
     ]
    },
    {
     "data": {
      "text/plain": [
       "True"
      ]
     },
     "execution_count": 121,
     "metadata": {},
     "output_type": "execute_result"
    }
   ],
   "source": [
    "nltk.download('words')"
   ]
  },
  {
   "cell_type": "code",
   "execution_count": 124,
   "metadata": {},
   "outputs": [
    {
     "name": "stdout",
     "output_type": "stream",
     "text": [
      "(S\n",
      "  this/DT\n",
      "  feels/VBZ\n",
      "  amazing/JJ\n",
      "  and/CC\n",
      "  so/RB\n",
      "  soft/JJ\n",
      "  when/WRB\n",
      "  you/PRP\n",
      "  first/RB\n",
      "  use/VB\n",
      "  it/PRP\n",
      "  ./.\n",
      "  and/CC\n",
      "  it/PRP\n",
      "  smells/VBZ\n",
      "  amazing/JJ\n",
      "  !/.\n",
      "  but/CC\n",
      "  after/IN\n",
      "  continued/VBN\n",
      "  use/NN\n",
      "  ,/,\n",
      "  it/PRP\n",
      "  dried/VBD\n",
      "  out/RP\n",
      "  my/PRP$\n",
      "  already/RB\n",
      "  dry/JJ\n",
      "  lips/NNS\n",
      "  ./.\n",
      "  it/PRP\n",
      "  seems/VBZ\n",
      "  hydrating/VBG\n",
      "  ,/,\n",
      "  but/CC\n",
      "  it/PRP\n",
      "  tricks/VBZ\n",
      "  you/PRP\n",
      "  and/CC\n",
      "  just/RB\n",
      "  dries/NNS\n",
      "  it/PRP\n",
      "  out/RP\n",
      "  later/RB\n",
      "  ./.\n",
      "  so/RB\n",
      "  many/JJ\n",
      "  better/JJR\n",
      "  lip/NN\n",
      "  products/NNS\n",
      "  like/IN\n",
      "  kosas/NNS\n",
      "  lipfuel/VBP)\n"
     ]
    }
   ],
   "source": [
    "entities = nltk.chunk.ne_chunk(tagged)\n",
    "entities.pprint()"
   ]
  },
  {
   "cell_type": "markdown",
   "metadata": {},
   "source": [
    "## VADER Sentiment Score"
   ]
  },
  {
   "cell_type": "markdown",
   "metadata": {},
   "source": [
    "### Short Description"
   ]
  },
  {
   "cell_type": "markdown",
   "metadata": {},
   "source": [
    "Vader (Valence Aware Dictionary and Sentiment Reasoner) is a rule-based sentiment analysis tool that is specifically designed for analyzing social media texts. Vader is a pre-trained sentiment analysis model that provides a sentiment score for a given text.\n",
    "\n",
    "Vader uses a dictionary of words and rules to determine the sentiment of a piece of text. It uses a valence score for each word to determine its positivity or negativity. The valence score ranges from -4 to +4, with -4 being the most negative and +4 being the most positive.\n",
    "\n",
    "Uses \"bag of words\" approach\n",
    "- Stopwords are removed\n",
    "- Each word is scored and combined into total score\n",
    "\n",
    "Some bulletpoints about VADER:\n",
    "- Lexicon and rule-based model that relies on predefined list of words and meanings\n",
    "- Uses simple rules to analyze sentiments\n",
    "- Might misinterpret context \n",
    "- It is static, doesn't adapt after initial development\n",
    "- Performance is based on the dictionary it uses\n",
    "- Primarily focuses on English\n",
    "- Requires manual addition of lexicon and rule-set "
   ]
  },
  {
   "cell_type": "markdown",
   "metadata": {},
   "source": [
    "Link: https://medium.com/@rslavanyageetha/vader-a-comprehensive-guide-to-sentiment-analysis-in-python-c4f1868b0d2e#:~:text=Vader%20uses%20a%20dictionary%20of,4%20being%20the%20most%20positive."
   ]
  },
  {
   "cell_type": "markdown",
   "metadata": {},
   "source": [
    "### Installing Necessities"
   ]
  },
  {
   "cell_type": "code",
   "execution_count": 125,
   "metadata": {},
   "outputs": [
    {
     "name": "stderr",
     "output_type": "stream",
     "text": [
      "[nltk_data] Downloading package vader_lexicon to\n",
      "[nltk_data]     /Users/jabbawocka/nltk_data...\n",
      "[nltk_data]   Package vader_lexicon is already up-to-date!\n"
     ]
    },
    {
     "data": {
      "text/plain": [
       "True"
      ]
     },
     "execution_count": 125,
     "metadata": {},
     "output_type": "execute_result"
    }
   ],
   "source": [
    "nltk.download('vader_lexicon')"
   ]
  },
  {
   "cell_type": "code",
   "execution_count": 126,
   "metadata": {},
   "outputs": [],
   "source": [
    "from nltk.sentiment.vader import SentimentIntensityAnalyzer\n",
    "from tqdm.notebook import tqdm\n",
    "\n",
    "analyzer = SentimentIntensityAnalyzer()"
   ]
  },
  {
   "cell_type": "markdown",
   "metadata": {},
   "source": [
    "Simple examples"
   ]
  },
  {
   "cell_type": "code",
   "execution_count": 127,
   "metadata": {},
   "outputs": [
    {
     "data": {
      "text/plain": [
       "{'neg': 0.0, 'neu': 0.556, 'pos': 0.444, 'compound': 0.4927}"
      ]
     },
     "execution_count": 127,
     "metadata": {},
     "output_type": "execute_result"
    }
   ],
   "source": [
    "analyzer.polarity_scores('This is a very good product')"
   ]
  },
  {
   "cell_type": "code",
   "execution_count": 128,
   "metadata": {},
   "outputs": [
    {
     "data": {
      "text/plain": [
       "{'neg': 0.451, 'neu': 0.549, 'pos': 0.0, 'compound': -0.6249}"
      ]
     },
     "execution_count": 128,
     "metadata": {},
     "output_type": "execute_result"
    }
   ],
   "source": [
    "analyzer.polarity_scores('This is the worst product ever')"
   ]
  },
  {
   "cell_type": "code",
   "execution_count": 130,
   "metadata": {},
   "outputs": [
    {
     "name": "stdout",
     "output_type": "stream",
     "text": [
      "this feels amazing and so soft when you first use it. and it smells amazing! but after continued use, it dried out my already dry lips. it seems hydrating, but it tricks you and just dries it out later. so many better lip products like kosas lipfuel\n"
     ]
    },
    {
     "data": {
      "text/plain": [
       "{'neg': 0.031, 'neu': 0.745, 'pos': 0.224, 'compound': 0.897}"
      ]
     },
     "execution_count": 130,
     "metadata": {},
     "output_type": "execute_result"
    }
   ],
   "source": [
    "# Trying with the example from above\n",
    "print(example)\n",
    "analyzer.polarity_scores(example)"
   ]
  },
  {
   "cell_type": "markdown",
   "metadata": {},
   "source": [
    "### Polarity score on the DataFrame"
   ]
  },
  {
   "cell_type": "code",
   "execution_count": 132,
   "metadata": {},
   "outputs": [],
   "source": [
    "def get_polarity_scores(text):\n",
    "    return analyzer.polarity_scores(text)"
   ]
  },
  {
   "cell_type": "code",
   "execution_count": 133,
   "metadata": {},
   "outputs": [],
   "source": [
    "combined_df['polarity_score'] = combined_df['clean_text'].apply(get_polarity_scores)"
   ]
  },
  {
   "cell_type": "code",
   "execution_count": 134,
   "metadata": {},
   "outputs": [
    {
     "data": {
      "text/html": [
       "<div>\n",
       "<style scoped>\n",
       "    .dataframe tbody tr th:only-of-type {\n",
       "        vertical-align: middle;\n",
       "    }\n",
       "\n",
       "    .dataframe tbody tr th {\n",
       "        vertical-align: top;\n",
       "    }\n",
       "\n",
       "    .dataframe thead th {\n",
       "        text-align: right;\n",
       "    }\n",
       "</style>\n",
       "<table border=\"1\" class=\"dataframe\">\n",
       "  <thead>\n",
       "    <tr style=\"text-align: right;\">\n",
       "      <th></th>\n",
       "      <th>review_id</th>\n",
       "      <th>review_text</th>\n",
       "      <th>product_id</th>\n",
       "      <th>rating</th>\n",
       "      <th>review_title</th>\n",
       "      <th>is_recommended</th>\n",
       "      <th>author_id</th>\n",
       "      <th>clean_text</th>\n",
       "      <th>polarity_score</th>\n",
       "    </tr>\n",
       "  </thead>\n",
       "  <tbody>\n",
       "    <tr>\n",
       "      <th>0</th>\n",
       "      <td>0</td>\n",
       "      <td>I use this with the Nudestix “Citrus Clean Bal...</td>\n",
       "      <td>P504322</td>\n",
       "      <td>5</td>\n",
       "      <td>Taught me how to double cleanse!</td>\n",
       "      <td>1.0</td>\n",
       "      <td>1741593524</td>\n",
       "      <td>i use this with the nudestix citrus clean balm...</td>\n",
       "      <td>{'neg': 0.0, 'neu': 0.806, 'pos': 0.194, 'comp...</td>\n",
       "    </tr>\n",
       "    <tr>\n",
       "      <th>1</th>\n",
       "      <td>1</td>\n",
       "      <td>I bought this lip mask after reading the revie...</td>\n",
       "      <td>P420652</td>\n",
       "      <td>1</td>\n",
       "      <td>Disappointed</td>\n",
       "      <td>0.0</td>\n",
       "      <td>31423088263</td>\n",
       "      <td>i bought this lip mask after reading the revie...</td>\n",
       "      <td>{'neg': 0.079, 'neu': 0.825, 'pos': 0.096, 'co...</td>\n",
       "    </tr>\n",
       "    <tr>\n",
       "      <th>2</th>\n",
       "      <td>2</td>\n",
       "      <td>My review title says it all! I get so excited ...</td>\n",
       "      <td>P420652</td>\n",
       "      <td>5</td>\n",
       "      <td>New Favorite Routine</td>\n",
       "      <td>1.0</td>\n",
       "      <td>5061282401</td>\n",
       "      <td>my review title says it all! i get so excited ...</td>\n",
       "      <td>{'neg': 0.052, 'neu': 0.905, 'pos': 0.042, 'co...</td>\n",
       "    </tr>\n",
       "    <tr>\n",
       "      <th>3</th>\n",
       "      <td>3</td>\n",
       "      <td>I’ve always loved this formula for a long time...</td>\n",
       "      <td>P420652</td>\n",
       "      <td>5</td>\n",
       "      <td>Can't go wrong with any of them</td>\n",
       "      <td>1.0</td>\n",
       "      <td>6083038851</td>\n",
       "      <td>i’ve always loved this formula for a long time...</td>\n",
       "      <td>{'neg': 0.0, 'neu': 0.707, 'pos': 0.293, 'comp...</td>\n",
       "    </tr>\n",
       "    <tr>\n",
       "      <th>4</th>\n",
       "      <td>4</td>\n",
       "      <td>If you have dry cracked lips, this is a must h...</td>\n",
       "      <td>P420652</td>\n",
       "      <td>5</td>\n",
       "      <td>A must have !!!</td>\n",
       "      <td>1.0</td>\n",
       "      <td>47056667835</td>\n",
       "      <td>if you have dry cracked lips, this is a must h...</td>\n",
       "      <td>{'neg': 0.0, 'neu': 0.94, 'pos': 0.06, 'compou...</td>\n",
       "    </tr>\n",
       "  </tbody>\n",
       "</table>\n",
       "</div>"
      ],
      "text/plain": [
       "   review_id                                        review_text product_id  \\\n",
       "0          0  I use this with the Nudestix “Citrus Clean Bal...    P504322   \n",
       "1          1  I bought this lip mask after reading the revie...    P420652   \n",
       "2          2  My review title says it all! I get so excited ...    P420652   \n",
       "3          3  I’ve always loved this formula for a long time...    P420652   \n",
       "4          4  If you have dry cracked lips, this is a must h...    P420652   \n",
       "\n",
       "   rating                      review_title  is_recommended    author_id  \\\n",
       "0       5  Taught me how to double cleanse!             1.0   1741593524   \n",
       "1       1                      Disappointed             0.0  31423088263   \n",
       "2       5              New Favorite Routine             1.0   5061282401   \n",
       "3       5   Can't go wrong with any of them             1.0   6083038851   \n",
       "4       5                   A must have !!!             1.0  47056667835   \n",
       "\n",
       "                                          clean_text  \\\n",
       "0  i use this with the nudestix citrus clean balm...   \n",
       "1  i bought this lip mask after reading the revie...   \n",
       "2  my review title says it all! i get so excited ...   \n",
       "3  i’ve always loved this formula for a long time...   \n",
       "4  if you have dry cracked lips, this is a must h...   \n",
       "\n",
       "                                      polarity_score  \n",
       "0  {'neg': 0.0, 'neu': 0.806, 'pos': 0.194, 'comp...  \n",
       "1  {'neg': 0.079, 'neu': 0.825, 'pos': 0.096, 'co...  \n",
       "2  {'neg': 0.052, 'neu': 0.905, 'pos': 0.042, 'co...  \n",
       "3  {'neg': 0.0, 'neu': 0.707, 'pos': 0.293, 'comp...  \n",
       "4  {'neg': 0.0, 'neu': 0.94, 'pos': 0.06, 'compou...  "
      ]
     },
     "execution_count": 134,
     "metadata": {},
     "output_type": "execute_result"
    }
   ],
   "source": [
    "combined_df.head()"
   ]
  },
  {
   "cell_type": "markdown",
   "metadata": {},
   "source": [
    "Separating `polarity_score` column into `neg`, `neu`, `pos` and `compound` for `combined_df`"
   ]
  },
  {
   "cell_type": "code",
   "execution_count": 136,
   "metadata": {},
   "outputs": [],
   "source": [
    "combined_df['neg'] = combined_df['polarity_score'].apply(lambda x: x['neg'])\n",
    "combined_df['neu'] = combined_df['polarity_score'].apply(lambda x: x['neu'])\n",
    "combined_df['pos'] = combined_df['polarity_score'].apply(lambda x: x['pos'])\n",
    "combined_df['compound'] = combined_df['polarity_score'].apply(lambda x: x['compound'])\n",
    "\n",
    "combined_df = combined_df.drop('polarity_score', axis=1)"
   ]
  },
  {
   "cell_type": "code",
   "execution_count": 137,
   "metadata": {},
   "outputs": [
    {
     "data": {
      "text/html": [
       "<div>\n",
       "<style scoped>\n",
       "    .dataframe tbody tr th:only-of-type {\n",
       "        vertical-align: middle;\n",
       "    }\n",
       "\n",
       "    .dataframe tbody tr th {\n",
       "        vertical-align: top;\n",
       "    }\n",
       "\n",
       "    .dataframe thead th {\n",
       "        text-align: right;\n",
       "    }\n",
       "</style>\n",
       "<table border=\"1\" class=\"dataframe\">\n",
       "  <thead>\n",
       "    <tr style=\"text-align: right;\">\n",
       "      <th></th>\n",
       "      <th>review_id</th>\n",
       "      <th>review_text</th>\n",
       "      <th>product_id</th>\n",
       "      <th>rating</th>\n",
       "      <th>review_title</th>\n",
       "      <th>is_recommended</th>\n",
       "      <th>author_id</th>\n",
       "      <th>clean_text</th>\n",
       "      <th>neg</th>\n",
       "      <th>neu</th>\n",
       "      <th>pos</th>\n",
       "      <th>compound</th>\n",
       "    </tr>\n",
       "  </thead>\n",
       "  <tbody>\n",
       "    <tr>\n",
       "      <th>0</th>\n",
       "      <td>0</td>\n",
       "      <td>I use this with the Nudestix “Citrus Clean Bal...</td>\n",
       "      <td>P504322</td>\n",
       "      <td>5</td>\n",
       "      <td>Taught me how to double cleanse!</td>\n",
       "      <td>1.0</td>\n",
       "      <td>1741593524</td>\n",
       "      <td>i use this with the nudestix citrus clean balm...</td>\n",
       "      <td>0.000</td>\n",
       "      <td>0.806</td>\n",
       "      <td>0.194</td>\n",
       "      <td>0.9392</td>\n",
       "    </tr>\n",
       "    <tr>\n",
       "      <th>1</th>\n",
       "      <td>1</td>\n",
       "      <td>I bought this lip mask after reading the revie...</td>\n",
       "      <td>P420652</td>\n",
       "      <td>1</td>\n",
       "      <td>Disappointed</td>\n",
       "      <td>0.0</td>\n",
       "      <td>31423088263</td>\n",
       "      <td>i bought this lip mask after reading the revie...</td>\n",
       "      <td>0.079</td>\n",
       "      <td>0.825</td>\n",
       "      <td>0.096</td>\n",
       "      <td>0.1280</td>\n",
       "    </tr>\n",
       "    <tr>\n",
       "      <th>2</th>\n",
       "      <td>2</td>\n",
       "      <td>My review title says it all! I get so excited ...</td>\n",
       "      <td>P420652</td>\n",
       "      <td>5</td>\n",
       "      <td>New Favorite Routine</td>\n",
       "      <td>1.0</td>\n",
       "      <td>5061282401</td>\n",
       "      <td>my review title says it all! i get so excited ...</td>\n",
       "      <td>0.052</td>\n",
       "      <td>0.905</td>\n",
       "      <td>0.042</td>\n",
       "      <td>-0.1240</td>\n",
       "    </tr>\n",
       "    <tr>\n",
       "      <th>3</th>\n",
       "      <td>3</td>\n",
       "      <td>I’ve always loved this formula for a long time...</td>\n",
       "      <td>P420652</td>\n",
       "      <td>5</td>\n",
       "      <td>Can't go wrong with any of them</td>\n",
       "      <td>1.0</td>\n",
       "      <td>6083038851</td>\n",
       "      <td>i’ve always loved this formula for a long time...</td>\n",
       "      <td>0.000</td>\n",
       "      <td>0.707</td>\n",
       "      <td>0.293</td>\n",
       "      <td>0.9460</td>\n",
       "    </tr>\n",
       "    <tr>\n",
       "      <th>4</th>\n",
       "      <td>4</td>\n",
       "      <td>If you have dry cracked lips, this is a must h...</td>\n",
       "      <td>P420652</td>\n",
       "      <td>5</td>\n",
       "      <td>A must have !!!</td>\n",
       "      <td>1.0</td>\n",
       "      <td>47056667835</td>\n",
       "      <td>if you have dry cracked lips, this is a must h...</td>\n",
       "      <td>0.000</td>\n",
       "      <td>0.940</td>\n",
       "      <td>0.060</td>\n",
       "      <td>0.3291</td>\n",
       "    </tr>\n",
       "  </tbody>\n",
       "</table>\n",
       "</div>"
      ],
      "text/plain": [
       "   review_id                                        review_text product_id  \\\n",
       "0          0  I use this with the Nudestix “Citrus Clean Bal...    P504322   \n",
       "1          1  I bought this lip mask after reading the revie...    P420652   \n",
       "2          2  My review title says it all! I get so excited ...    P420652   \n",
       "3          3  I’ve always loved this formula for a long time...    P420652   \n",
       "4          4  If you have dry cracked lips, this is a must h...    P420652   \n",
       "\n",
       "   rating                      review_title  is_recommended    author_id  \\\n",
       "0       5  Taught me how to double cleanse!             1.0   1741593524   \n",
       "1       1                      Disappointed             0.0  31423088263   \n",
       "2       5              New Favorite Routine             1.0   5061282401   \n",
       "3       5   Can't go wrong with any of them             1.0   6083038851   \n",
       "4       5                   A must have !!!             1.0  47056667835   \n",
       "\n",
       "                                          clean_text    neg    neu    pos  \\\n",
       "0  i use this with the nudestix citrus clean balm...  0.000  0.806  0.194   \n",
       "1  i bought this lip mask after reading the revie...  0.079  0.825  0.096   \n",
       "2  my review title says it all! i get so excited ...  0.052  0.905  0.042   \n",
       "3  i’ve always loved this formula for a long time...  0.000  0.707  0.293   \n",
       "4  if you have dry cracked lips, this is a must h...  0.000  0.940  0.060   \n",
       "\n",
       "   compound  \n",
       "0    0.9392  \n",
       "1    0.1280  \n",
       "2   -0.1240  \n",
       "3    0.9460  \n",
       "4    0.3291  "
      ]
     },
     "execution_count": 137,
     "metadata": {},
     "output_type": "execute_result"
    }
   ],
   "source": [
    "combined_df.head()"
   ]
  },
  {
   "cell_type": "markdown",
   "metadata": {},
   "source": [
    "### Plot VADER Results"
   ]
  },
  {
   "cell_type": "markdown",
   "metadata": {},
   "source": [
    "Looking at Rating vs. VADER Compound Score"
   ]
  },
  {
   "cell_type": "code",
   "execution_count": 138,
   "metadata": {},
   "outputs": [
    {
     "data": {
      "image/png": "[encoded data removed]",
      "text/plain": [
       "<Figure size 640x480 with 1 Axes>"
      ]
     },
     "metadata": {},
     "output_type": "display_data"
    }
   ],
   "source": [
    "ax = sns.barplot(data=combined_df, x='rating', y='compound')\n",
    "ax.set_title('VADER Compound Score by All User Ratings')\n",
    "plt.show()"
   ]
  },
  {
   "cell_type": "markdown",
   "metadata": {},
   "source": [
    "Looking at individual negative, neutral and positive VADER scores"
   ]
  },
  {
   "cell_type": "code",
   "execution_count": 139,
   "metadata": {},
   "outputs": [],
   "source": [
    "unique_ratings = combined_df['rating'].nunique()\n",
    "palette = sns.color_palette(\"deep\", unique_ratings)"
   ]
  },
  {
   "cell_type": "code",
   "execution_count": 140,
   "metadata": {},
   "outputs": [
    {
     "data": {
      "image/png": "[encoded data removed]",
      "text/plain": [
       "<Figure size 1500x500 with 3 Axes>"
      ]
     },
     "metadata": {},
     "output_type": "display_data"
    }
   ],
   "source": [
    "fig, axs = plt.subplots(1, 3, figsize=(15,5))\n",
    "sns.barplot(data=combined_df, x='rating', y='pos', hue='rating', ax=axs[0], palette=palette, legend=False)\n",
    "sns.barplot(data=combined_df, x='rating', y='neu', hue='rating', ax=axs[1], palette=palette, legend=False)\n",
    "sns.barplot(data=combined_df, x='rating', y='neg', hue='rating', ax=axs[2], palette=palette, legend=False)\n",
    "axs[0].set_title('Positive')\n",
    "axs[1].set_title('Neutral')\n",
    "axs[2].set_title('Negative')\n",
    "fig.suptitle('VADER Sentiment Scores vs. Ratings (Complete Dataset)', fontsize=16)\n",
    "\n",
    "plt.tight_layout()\n",
    "plt.show()"
   ]
  },
  {
   "cell_type": "markdown",
   "metadata": {},
   "source": [
    "## RoBERTa Model"
   ]
  },
  {
   "cell_type": "markdown",
   "metadata": {},
   "source": [
    "### Brief Description"
   ]
  },
  {
   "cell_type": "markdown",
   "metadata": {},
   "source": [
    "RoBERTa = Robustly optimized BERT model\n",
    "\n",
    "Advantages of RoBERTa over VADER:\n",
    "- It is a deep learning model based on Transformer architecture. It captures context of words in a sentence better.\n",
    "- Trained on large datasets and learns from context\n",
    "- Effectively handles change in language usage over time, slang, emerging terms etc. \n",
    "- Has versions to support multiple languages\n",
    "- Can be fine-tuned on specific dataset\n",
    "- More suitable for applications where the context and depth of language understanding are critical"
   ]
  },
  {
   "cell_type": "markdown",
   "metadata": {},
   "source": [
    "### Load RoBERTa Model and Tokenizer"
   ]
  },
  {
   "cell_type": "code",
   "execution_count": 141,
   "metadata": {},
   "outputs": [
    {
     "name": "stderr",
     "output_type": "stream",
     "text": [
      "/Users/jabbawocka/Desktop/SPICED/Project/product-recommendation/porefectionist/sentiment-analysis/Deliverables/hope/.venv/lib/python3.11/site-packages/transformers/tokenization_utils_base.py:1601: FutureWarning: `clean_up_tokenization_spaces` was not set. It will be set to `True` by default. This behavior will be depracted in transformers v4.45, and will be then set to `False` by default. For more details check this issue: https://github.com/huggingface/transformers/issues/31884\n",
      "  warnings.warn(\n"
     ]
    }
   ],
   "source": [
    "from transformers import AutoTokenizer, AutoModelForSequenceClassification\n",
    "import torch\n",
    "\n",
    "# pre-trained RoBERTa model and tokenizer\n",
    "tokenizer = AutoTokenizer.from_pretrained('cardiffnlp/twitter-roberta-base-sentiment')\n",
    "model = AutoModelForSequenceClassification.from_pretrained('cardiffnlp/twitter-roberta-base-sentiment')"
   ]
  },
  {
   "cell_type": "markdown",
   "metadata": {},
   "source": [
    "### Sentiment Prediction Function"
   ]
  },
  {
   "cell_type": "code",
   "execution_count": 147,
   "metadata": {},
   "outputs": [],
   "source": [
    "def predict_sentiment(review):\n",
    "    # max length the model can handle\n",
    "    max_length = 512\n",
    "    # Tokenize input text\n",
    "    inputs = tokenizer(review, return_tensors=\"pt\", truncation=True, padding=True, max_length=max_length)\n",
    "    \n",
    "    # Forward pass through the model\n",
    "    with torch.no_grad():\n",
    "        outputs = model(**inputs)\n",
    "    \n",
    "    # Get the prediction\n",
    "    probs = torch.nn.functional.softmax(outputs.logits, dim=-1)\n",
    "    sentiment_score = probs.argmax(dim=1).item()\n",
    "    \n",
    "    # Map the score to sentiment labels\n",
    "    labels = ['Negative', 'Neutral', 'Positive']\n",
    "    return labels[sentiment_score], probs[0][sentiment_score].item()"
   ]
  },
  {
   "cell_type": "markdown",
   "metadata": {},
   "source": [
    "# RoBERTa on Batches"
   ]
  },
  {
   "cell_type": "markdown",
   "metadata": {},
   "source": [
    "I don't trust myself enough to write a loop for batches, so I will manually run the next cell to process them."
   ]
  },
  {
   "cell_type": "code",
   "execution_count": 156,
   "metadata": {},
   "outputs": [
    {
     "name": "stderr",
     "output_type": "stream",
     "text": [
      "Processing Batches:  10%|█         | 1/10 [00:48<07:12, 48.03s/batch]"
     ]
    },
    {
     "name": "stdout",
     "output_type": "stream",
     "text": [
      "Processed batch 1/10 in 48.03 seconds.\n"
     ]
    },
    {
     "name": "stderr",
     "output_type": "stream",
     "text": [
      "Processing Batches:  20%|██        | 2/10 [01:30<05:55, 44.49s/batch]"
     ]
    },
    {
     "name": "stdout",
     "output_type": "stream",
     "text": [
      "Processed batch 2/10 in 42.02 seconds.\n"
     ]
    },
    {
     "name": "stderr",
     "output_type": "stream",
     "text": [
      "Processing Batches:  30%|███       | 3/10 [02:15<05:15, 45.06s/batch]"
     ]
    },
    {
     "name": "stdout",
     "output_type": "stream",
     "text": [
      "Processed batch 3/10 in 45.73 seconds.\n"
     ]
    },
    {
     "name": "stderr",
     "output_type": "stream",
     "text": [
      "Processing Batches:  40%|████      | 4/10 [03:00<04:29, 44.93s/batch]"
     ]
    },
    {
     "name": "stdout",
     "output_type": "stream",
     "text": [
      "Processed batch 4/10 in 44.72 seconds.\n"
     ]
    },
    {
     "name": "stderr",
     "output_type": "stream",
     "text": [
      "Processing Batches:  50%|█████     | 5/10 [03:44<03:42, 44.48s/batch]"
     ]
    },
    {
     "name": "stdout",
     "output_type": "stream",
     "text": [
      "Processed batch 5/10 in 43.69 seconds.\n"
     ]
    },
    {
     "name": "stderr",
     "output_type": "stream",
     "text": [
      "Processing Batches:  60%|██████    | 6/10 [04:30<03:00, 45.05s/batch]"
     ]
    },
    {
     "name": "stdout",
     "output_type": "stream",
     "text": [
      "Processed batch 6/10 in 46.16 seconds.\n"
     ]
    },
    {
     "name": "stderr",
     "output_type": "stream",
     "text": [
      "Processing Batches:  70%|███████   | 7/10 [05:16<02:16, 45.54s/batch]"
     ]
    },
    {
     "name": "stdout",
     "output_type": "stream",
     "text": [
      "Processed batch 7/10 in 46.53 seconds.\n"
     ]
    },
    {
     "name": "stderr",
     "output_type": "stream",
     "text": [
      "Processing Batches:  80%|████████  | 8/10 [06:03<01:31, 45.97s/batch]"
     ]
    },
    {
     "name": "stdout",
     "output_type": "stream",
     "text": [
      "Processed batch 8/10 in 46.89 seconds.\n"
     ]
    },
    {
     "name": "stderr",
     "output_type": "stream",
     "text": [
      "Processing Batches:  90%|█████████ | 9/10 [06:53<00:47, 47.16s/batch]"
     ]
    },
    {
     "name": "stdout",
     "output_type": "stream",
     "text": [
      "Processed batch 9/10 in 49.79 seconds.\n"
     ]
    },
    {
     "name": "stderr",
     "output_type": "stream",
     "text": [
      "Processing Batches: 100%|██████████| 10/10 [07:34<00:00, 45.50s/batch]"
     ]
    },
    {
     "name": "stdout",
     "output_type": "stream",
     "text": [
      "Processed batch 10/10 in 41.39 seconds.\n",
      "Total processing time: 455.07 seconds.\n"
     ]
    },
    {
     "name": "stderr",
     "output_type": "stream",
     "text": [
      "\n"
     ]
    }
   ],
   "source": [
    "import time\n",
    "import pandas as pd\n",
    "from tqdm import tqdm  # Import tqdm for live progress\n",
    "\n",
    "# Function to process each chunk\n",
    "def process_chunk(chunk):\n",
    "    errors = []  # List to store any errors encountered during processing\n",
    "    results = []\n",
    "    \n",
    "    chunk = chunk.copy()  # Ensure we are working with a copy to avoid SettingWithCopyWarning\n",
    "\n",
    "    for index, row in chunk.iterrows():\n",
    "        try:\n",
    "            # Attempt to process the row\n",
    "            sentiment, sentiment_score = predict_sentiment(row['clean_text'])\n",
    "            results.append((index, sentiment, sentiment_score))\n",
    "        except Exception as e:\n",
    "            # If an error occurs, append the error details to the errors list\n",
    "            errors.append((index, str(e)))  # Log the index and the actual error message\n",
    "\n",
    "    # If no errors occurred, update the chunk with sentiment results\n",
    "    if results:\n",
    "        indices, sentiments, sentiment_scores = zip(*results)\n",
    "        chunk.loc[indices, 'sentiment'] = sentiments\n",
    "        chunk.loc[indices, 'sentiment_score'] = sentiment_scores\n",
    "    \n",
    "    return chunk, errors\n",
    "\n",
    "# Initialize variables for tracking time\n",
    "batch_size = 1024  # Set batch size to 1024\n",
    "batch_name = sample10k # Set the correct batch name here\n",
    "total_batches = len(batch_name) // batch_size + (1 if len(batch_name) % batch_size != 0 else 0)\n",
    "batch_times = []\n",
    "\n",
    "# Process the dataset in batches with a live progress bar\n",
    "results = []\n",
    "all_errors = []  # List to store all errors across batches\n",
    "start_time = time.time()\n",
    "\n",
    "# Use tqdm to create a progress bar\n",
    "for i in tqdm(range(total_batches), desc=\"Processing Batches\", unit=\"batch\"):\n",
    "    start_batch_time = time.time()\n",
    "    \n",
    "    start = i * batch_size\n",
    "    end = min((i + 1) * batch_size, len(batch_name))\n",
    "    chunk = batch_name.iloc[start:end].copy()  # Copy to avoid SettingWithCopyWarning\n",
    "    \n",
    "    # Process the chunk with error handling\n",
    "    processed_chunk, errors = process_chunk(chunk)\n",
    "    results.append(processed_chunk)\n",
    "    all_errors.extend(errors)\n",
    "    \n",
    "    # Track time taken for the batch\n",
    "    end_batch_time = time.time()\n",
    "    batch_time = end_batch_time - start_batch_time\n",
    "    batch_times.append(batch_time)\n",
    "    \n",
    "    # Optionally log the time for each batch (not necessary if using tqdm)\n",
    "    print(f\"Processed batch {i + 1}/{total_batches} in {batch_time:.2f} seconds.\")\n",
    "    \n",
    "# Combine all results\n",
    "df_with_sentiment = pd.concat(results, ignore_index=True)\n",
    "\n",
    "# Save the results\n",
    "df_with_sentiment.to_csv('rev1_with_sentiment.csv', index=False)\n",
    "\n",
    "# Save the errors to a separate file for review\n",
    "if all_errors:\n",
    "    error_df = pd.DataFrame(all_errors, columns=['index', 'error_message'])\n",
    "    error_df.to_csv('processing_errors.csv', index=False)\n",
    "    print(f\"Errors encountered and saved to processing_errors.csv: {len(all_errors)} rows.\")\n",
    "\n",
    "# Calculate total time\n",
    "total_time = time.time() - start_time\n",
    "print(f\"Total processing time: {total_time:.2f} seconds.\")\n"
   ]
  },
  {
   "cell_type": "code",
   "execution_count": 159,
   "metadata": {},
   "outputs": [
    {
     "name": "stdout",
     "output_type": "stream",
     "text": [
      "<class 'pandas.core.frame.DataFrame'>\n",
      "RangeIndex: 10000 entries, 0 to 9999\n",
      "Data columns (total 10 columns):\n",
      " #   Column           Non-Null Count  Dtype  \n",
      "---  ------           --------------  -----  \n",
      " 0   review_id        10000 non-null  int64  \n",
      " 1   review_text      10000 non-null  object \n",
      " 2   product_id       10000 non-null  object \n",
      " 3   rating           10000 non-null  int64  \n",
      " 4   review_title     7001 non-null   object \n",
      " 5   is_recommended   9559 non-null   float64\n",
      " 6   author_id        10000 non-null  object \n",
      " 7   clean_text       10000 non-null  object \n",
      " 8   sentiment        10000 non-null  object \n",
      " 9   sentiment_score  10000 non-null  float64\n",
      "dtypes: float64(2), int64(2), object(6)\n",
      "memory usage: 781.4+ KB\n"
     ]
    }
   ],
   "source": [
    "df_with_sentiment.info()"
   ]
  },
  {
   "cell_type": "markdown",
   "metadata": {},
   "source": [
    "# References"
   ]
  },
  {
   "cell_type": "markdown",
   "metadata": {},
   "source": [
    "### RoBERTa Resources\n",
    "\n",
    "- **Original Paper on RoBERTa**\n",
    "  - [RoBERTa: A Robustly Optimized BERT Pretraining Approach](https://arxiv.org/abs/1907.11692) - Yinhan Liu et al.\n",
    "\n",
    "- **Hugging Face Models**\n",
    "  - [Hugging Face - RoBERTa Models](https://huggingface.co/models?search=roberta)\n",
    "\n",
    "- **BERT and RoBERTa Explained**\n",
    "  - [The Illustrated BERT and RoBERTa](http://jalammar.github.io/illustrated-bert/)\n",
    "\n",
    "### VADER Resources\n",
    "\n",
    "- **Original Paper on VADER**\n",
    "  - [VADER: A Parsimonious Rule-based Model for Sentiment Analysis of Social Media Text](https://ojs.aaai.org/index.php/ICWSM/article/view/14550) - C.J. Hutto and Eric Gilbert\n",
    "\n",
    "- **GitHub Repository**\n",
    "  - [VADER GitHub](https://github.com/cjhutto/vaderSentiment)\n",
    "\n",
    "- **Practical Tutorial**\n",
    "  - [VADER sentiment analysis tutorial on Towards Data Science](https://towardsdatascience.com) (Search for \"VADER sentiment analysis\" on the site)\n",
    "\n",
    "### Additional Learning Resources\n",
    "\n",
    "- **Books on NLP**\n",
    "  - \"Natural Language Processing with Python\" by Steven Bird, Ewan Klein, and Edward Loper\n",
    "\n",
    "- **Online Courses**\n",
    "  - [Coursera - Natural Language Processing](https://www.coursera.org)\n",
    "  - [edX - Deep Learning Specialization](https://www.edx.org)\n"
   ]
  },
  {
   "cell_type": "markdown",
   "metadata": {},
   "source": []
  }
 ],
 "metadata": {
  "kernelspec": {
   "display_name": ".venv",
   "language": "python",
   "name": "python3"
  },
  "language_info": {
   "codemirror_mode": {
    "name": "ipython",
    "version": 3
   },
   "file_extension": ".py",
   "mimetype": "text/x-python",
   "name": "python",
   "nbconvert_exporter": "python",
   "pygments_lexer": "ipython3",
   "version": "3.11.3"
  }
 },
 "nbformat": 4,
 "nbformat_minor": 2
}
