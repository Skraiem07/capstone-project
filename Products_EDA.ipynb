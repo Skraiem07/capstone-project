{
 "cells": [
  {
   "cell_type": "code",
   "execution_count": 1,
   "metadata": {},
   "outputs": [],
   "source": [
    "import pandas as pd\n",
    "import matplotlib.pyplot as plt\n",
    "import seaborn as sns\n",
    "from nltk.corpus import stopwords\n",
    "from nltk.tokenize import word_tokenize\n",
    "from nltk.probability import FreqDist\n",
    "from wordcloud import WordCloud"
   ]
  },
  {
   "cell_type": "code",
   "execution_count": 2,
   "metadata": {},
   "outputs": [
    {
     "name": "stderr",
     "output_type": "stream",
     "text": [
      "[nltk_data] Downloading package punkt to /Users/marenklan/nltk_data...\n",
      "[nltk_data]   Package punkt is already up-to-date!\n",
      "[nltk_data] Downloading package stopwords to\n",
      "[nltk_data]     /Users/marenklan/nltk_data...\n",
      "[nltk_data]   Package stopwords is already up-to-date!\n"
     ]
    },
    {
     "data": {
      "text/plain": [
       "True"
      ]
     },
     "execution_count": 2,
     "metadata": {},
     "output_type": "execute_result"
    }
   ],
   "source": [
    "import nltk\n",
    "nltk.download('punkt')\n",
    "nltk.download('stopwords')"
   ]
  },
  {
   "cell_type": "markdown",
   "metadata": {},
   "source": [
    "## 19,000+ Products from Skinsort website"
   ]
  },
  {
   "cell_type": "code",
   "execution_count": 3,
   "metadata": {},
   "outputs": [],
   "source": [
    "#Load csv review \n",
    "df= pd.read_csv('data/products.csv')\n"
   ]
  },
  {
   "cell_type": "code",
   "execution_count": 5,
   "metadata": {},
   "outputs": [
    {
     "name": "stdout",
     "output_type": "stream",
     "text": [
      "                 brand                                      name   \n",
      "0         The Ordinary          Glycolic Acid 7% Toning Solution  \\\n",
      "1       La Roche-Posay  Toleriane Hydrating Gentle Face Cleanser   \n",
      "2         The Ordinary                Niacinamide 10% + Zinc 1%    \n",
      "3  Youth To The People            Superfood Antioxidant Cleanser   \n",
      "4                COSRX          Low pH Good Morning Gel Cleanser   \n",
      "\n",
      "               type        country   \n",
      "0             Toner         Canada  \\\n",
      "1     Face Cleanser         France   \n",
      "2  Facial Treatment         Canada   \n",
      "3     Face Cleanser  United States   \n",
      "4     Face Cleanser    South Korea   \n",
      "\n",
      "                                         ingridients   \n",
      "0  Water,Glycolic Acid,Rosa Damascena Flower Wate...  \\\n",
      "1  Water,Glycerin,Pentaerythrityl Tetraethylhexan...   \n",
      "2  Water,Niacinamide,Pentylene Glycol,Zinc PCA,Di...   \n",
      "3  Water,Cocamidopropyl Hydroxysultaine,Sodium Co...   \n",
      "4  Water,Cocamidopropyl Betaine,Sodium Lauroyl Me...   \n",
      "\n",
      "                                            afterUse  \n",
      "0  Good For Oily Skin,Skin Texture,Reduces Large ...  \n",
      "1  Good For Oily Skin,Redness Reducing,Reduces Ir...  \n",
      "2  Good For Oily Skin,Redness Reducing,Acne Fight...  \n",
      "3  Redness Reducing,Reduces Irritation,Skin Textu...  \n",
      "4  Good For Oily Skin,Reduces Irritation,Reduces ...  \n"
     ]
    }
   ],
   "source": [
    "print(df.head())"
   ]
  },
  {
   "cell_type": "code",
   "execution_count": 6,
   "metadata": {},
   "outputs": [
    {
     "name": "stdout",
     "output_type": "stream",
     "text": [
      "<class 'pandas.core.frame.DataFrame'>\n",
      "RangeIndex: 19050 entries, 0 to 19049\n",
      "Data columns (total 6 columns):\n",
      " #   Column       Non-Null Count  Dtype \n",
      "---  ------       --------------  ----- \n",
      " 0   brand        19050 non-null  object\n",
      " 1   name         19050 non-null  object\n",
      " 2   type         19035 non-null  object\n",
      " 3   country      17218 non-null  object\n",
      " 4   ingridients  18731 non-null  object\n",
      " 5   afterUse     17526 non-null  object\n",
      "dtypes: object(6)\n",
      "memory usage: 893.1+ KB\n",
      "None\n",
      "             brand             name   type        country ingridients   \n",
      "count        19050            19050  19035          17218       18731  \\\n",
      "unique        2224            18688     36             70       18171   \n",
      "top     Neutrogena  Vitamin C Serum  Serum  United States      Cotton   \n",
      "freq           204               23   2345           7315          17   \n",
      "\n",
      "                  afterUse  \n",
      "count                17526  \n",
      "unique                2970  \n",
      "top     Reduces Irritation  \n",
      "freq                   265  \n"
     ]
    }
   ],
   "source": [
    "print(df.info())\n",
    "print(df.describe())"
   ]
  },
  {
   "cell_type": "code",
   "execution_count": 7,
   "metadata": {},
   "outputs": [
    {
     "name": "stdout",
     "output_type": "stream",
     "text": [
      "Missing values per column:\n",
      " brand             0\n",
      "name              0\n",
      "type             15\n",
      "country        1832\n",
      "ingridients     319\n",
      "afterUse       1524\n",
      "dtype: int64\n"
     ]
    }
   ],
   "source": [
    "# missing values\n",
    "missing_values = df.isnull().sum()\n",
    "print(\"Missing values per column:\\n\", missing_values)"
   ]
  },
  {
   "cell_type": "code",
   "execution_count": 8,
   "metadata": {},
   "outputs": [
    {
     "data": {
      "text/plain": [
       "(19050, 6)"
      ]
     },
     "execution_count": 8,
     "metadata": {},
     "output_type": "execute_result"
    }
   ],
   "source": [
    "df.shape"
   ]
  },
  {
   "cell_type": "code",
   "execution_count": 9,
   "metadata": {},
   "outputs": [
    {
     "data": {
      "text/plain": [
       "Index(['brand', 'name', 'type', 'country', 'ingridients', 'afterUse'], dtype='object')"
      ]
     },
     "execution_count": 9,
     "metadata": {},
     "output_type": "execute_result"
    }
   ],
   "source": [
    "df.columns"
   ]
  },
  {
   "cell_type": "code",
   "execution_count": 14,
   "metadata": {},
   "outputs": [
    {
     "data": {
      "text/plain": [
       "type\n",
       "Serum                  2345\n",
       "General Moisturizer    2149\n",
       "Face Cleanser          1768\n",
       "Sunscreen              1286\n",
       "Bath & Body            1134\n",
       "Toner                   967\n",
       "Facial Treatment        861\n",
       "Face Makeup             818\n",
       "Eye Moisturizer         662\n",
       "Exfoliator              586\n",
       "Makeup Remover          564\n",
       "Wet Mask                559\n",
       "Sheet Mask              550\n",
       "Other Haircare          460\n",
       "Lip Moisturizer         421\n",
       "Eye Makeup              416\n",
       "Day Moisturizer         354\n",
       "Oil                     354\n",
       "Night Moisturizer       321\n",
       "Essence                 298\n",
       "Shampoo                 295\n",
       "Tool                    250\n",
       "Overnight Mask          198\n",
       "Lip Makeup              191\n",
       "Conditioner             184\n",
       "Fragrance               169\n",
       "Hand Care               156\n",
       "Eye Mask                121\n",
       "Makeup Applicator       115\n",
       "Nail Care               110\n",
       "Cheek Makeup            106\n",
       "Tanning                 104\n",
       "Lip Mask                 94\n",
       "Emulsion                 65\n",
       "False Eyelash             3\n",
       "Other                     1\n",
       "Name: count, dtype: int64"
      ]
     },
     "execution_count": 14,
     "metadata": {},
     "output_type": "execute_result"
    }
   ],
   "source": [
    "df['type'].value_counts()"
   ]
  },
  {
   "cell_type": "code",
   "execution_count": 15,
   "metadata": {},
   "outputs": [],
   "source": [
    "products_to_drop = ['Bath & Body', 'Face Makeup','Other Haircare','Eye Makeup','Shampoo','Tool','Lip Makeup','Conditioner','Fragrance','Makeup Applicator','Nail Care','Cheek Makeup','Tanning','False Eyelash','Other']\n",
    "df_filtered = df[~df['type'].isin(products_to_drop)]\n"
   ]
  },
  {
   "cell_type": "code",
   "execution_count": 16,
   "metadata": {},
   "outputs": [
    {
     "data": {
      "text/plain": [
       "(14694, 6)"
      ]
     },
     "execution_count": 16,
     "metadata": {},
     "output_type": "execute_result"
    }
   ],
   "source": [
    "df_filtered.shape"
   ]
  },
  {
   "cell_type": "code",
   "execution_count": 17,
   "metadata": {},
   "outputs": [
    {
     "name": "stdout",
     "output_type": "stream",
     "text": [
      "                     brand                                      name   \n",
      "0             The Ordinary          Glycolic Acid 7% Toning Solution  \\\n",
      "1           La Roche-Posay  Toleriane Hydrating Gentle Face Cleanser   \n",
      "2             The Ordinary                Niacinamide 10% + Zinc 1%    \n",
      "3      Youth To The People            Superfood Antioxidant Cleanser   \n",
      "4                    COSRX          Low pH Good Morning Gel Cleanser   \n",
      "...                    ...                                       ...   \n",
      "19045               CeraVe                 Hydrating Facial Cleanser   \n",
      "19046     Beauty of Joseon                     Ginseng Essence Water   \n",
      "19047               CeraVe             PM Facial Moisturizing Lotion   \n",
      "19048         The Ordinary         AHA 30% + BHA 2% Peeling Solution   \n",
      "19049                COSRX     Advanced Snail 96 Mucin Power Essence   \n",
      "\n",
      "                    type        country   \n",
      "0                  Toner         Canada  \\\n",
      "1          Face Cleanser         France   \n",
      "2       Facial Treatment         Canada   \n",
      "3          Face Cleanser  United States   \n",
      "4          Face Cleanser    South Korea   \n",
      "...                  ...            ...   \n",
      "19045      Face Cleanser         Canada   \n",
      "19046            Essence    South Korea   \n",
      "19047  Night Moisturizer         Canada   \n",
      "19048   Facial Treatment         Canada   \n",
      "19049            Essence    South Korea   \n",
      "\n",
      "                                             ingridients   \n",
      "0      Water,Glycolic Acid,Rosa Damascena Flower Wate...  \\\n",
      "1      Water,Glycerin,Pentaerythrityl Tetraethylhexan...   \n",
      "2      Water,Niacinamide,Pentylene Glycol,Zinc PCA,Di...   \n",
      "3      Water,Cocamidopropyl Hydroxysultaine,Sodium Co...   \n",
      "4      Water,Cocamidopropyl Betaine,Sodium Lauroyl Me...   \n",
      "...                                                  ...   \n",
      "19045  Water,Glycerin,Cetearyl Alcohol,Peg-40 Stearat...   \n",
      "19046  Panax Ginseng Root Water,Butylene Glycol,Glyce...   \n",
      "19047  Water,Glycerin,Caprylic/Capric Triglyceride,Ni...   \n",
      "19048  Glycolic Acid,Water,Aloe Barbadensis Leaf Wate...   \n",
      "19049  Snail Secretion Filtrate,Betaine,Butylene Glyc...   \n",
      "\n",
      "                                                afterUse  \n",
      "0      Good For Oily Skin,Skin Texture,Reduces Large ...  \n",
      "1      Good For Oily Skin,Redness Reducing,Reduces Ir...  \n",
      "2      Good For Oily Skin,Redness Reducing,Acne Fight...  \n",
      "3      Redness Reducing,Reduces Irritation,Skin Textu...  \n",
      "4      Good For Oily Skin,Reduces Irritation,Reduces ...  \n",
      "...                                                  ...  \n",
      "19045  Redness Reducing,Anti-Aging,Scar Healing,Brigh...  \n",
      "19046  Good For Oily Skin,Redness Reducing,Reduces Ir...  \n",
      "19047  Good For Oily Skin,Redness Reducing,Anti-Aging...  \n",
      "19048  Good For Oily Skin,Reduces Irritation,Skin Tex...  \n",
      "19049                                   Redness Reducing  \n",
      "\n",
      "[14694 rows x 6 columns]\n"
     ]
    }
   ],
   "source": [
    "print(df_filtered)"
   ]
  },
  {
   "cell_type": "code",
   "execution_count": 19,
   "metadata": {},
   "outputs": [
    {
     "data": {
      "text/plain": [
       "False    14685\n",
       "True         9\n",
       "Name: count, dtype: int64"
      ]
     },
     "execution_count": 19,
     "metadata": {},
     "output_type": "execute_result"
    }
   ],
   "source": [
    "df_filtered.duplicated().value_counts()"
   ]
  },
  {
   "cell_type": "code",
   "execution_count": 20,
   "metadata": {},
   "outputs": [
    {
     "data": {
      "text/html": [
       "<div>\n",
       "<style scoped>\n",
       "    .dataframe tbody tr th:only-of-type {\n",
       "        vertical-align: middle;\n",
       "    }\n",
       "\n",
       "    .dataframe tbody tr th {\n",
       "        vertical-align: top;\n",
       "    }\n",
       "\n",
       "    .dataframe thead th {\n",
       "        text-align: right;\n",
       "    }\n",
       "</style>\n",
       "<table border=\"1\" class=\"dataframe\">\n",
       "  <thead>\n",
       "    <tr style=\"text-align: right;\">\n",
       "      <th></th>\n",
       "      <th>brand</th>\n",
       "      <th>name</th>\n",
       "      <th>type</th>\n",
       "      <th>country</th>\n",
       "      <th>ingridients</th>\n",
       "      <th>afterUse</th>\n",
       "    </tr>\n",
       "  </thead>\n",
       "  <tbody>\n",
       "    <tr>\n",
       "      <th>0</th>\n",
       "      <td>The Ordinary</td>\n",
       "      <td>Glycolic Acid 7% Toning Solution</td>\n",
       "      <td>Toner</td>\n",
       "      <td>Canada</td>\n",
       "      <td>Water,Glycolic Acid,Rosa Damascena Flower Wate...</td>\n",
       "      <td>Good For Oily Skin,Skin Texture,Reduces Large ...</td>\n",
       "    </tr>\n",
       "    <tr>\n",
       "      <th>1</th>\n",
       "      <td>La Roche-Posay</td>\n",
       "      <td>Toleriane Hydrating Gentle Face Cleanser</td>\n",
       "      <td>Face Cleanser</td>\n",
       "      <td>France</td>\n",
       "      <td>Water,Glycerin,Pentaerythrityl Tetraethylhexan...</td>\n",
       "      <td>Good For Oily Skin,Redness Reducing,Reduces Ir...</td>\n",
       "    </tr>\n",
       "    <tr>\n",
       "      <th>2</th>\n",
       "      <td>The Ordinary</td>\n",
       "      <td>Niacinamide 10% + Zinc 1%</td>\n",
       "      <td>Facial Treatment</td>\n",
       "      <td>Canada</td>\n",
       "      <td>Water,Niacinamide,Pentylene Glycol,Zinc PCA,Di...</td>\n",
       "      <td>Good For Oily Skin,Redness Reducing,Acne Fight...</td>\n",
       "    </tr>\n",
       "    <tr>\n",
       "      <th>3</th>\n",
       "      <td>Youth To The People</td>\n",
       "      <td>Superfood Antioxidant Cleanser</td>\n",
       "      <td>Face Cleanser</td>\n",
       "      <td>United States</td>\n",
       "      <td>Water,Cocamidopropyl Hydroxysultaine,Sodium Co...</td>\n",
       "      <td>Redness Reducing,Reduces Irritation,Skin Textu...</td>\n",
       "    </tr>\n",
       "    <tr>\n",
       "      <th>4</th>\n",
       "      <td>COSRX</td>\n",
       "      <td>Low pH Good Morning Gel Cleanser</td>\n",
       "      <td>Face Cleanser</td>\n",
       "      <td>South Korea</td>\n",
       "      <td>Water,Cocamidopropyl Betaine,Sodium Lauroyl Me...</td>\n",
       "      <td>Good For Oily Skin,Reduces Irritation,Reduces ...</td>\n",
       "    </tr>\n",
       "  </tbody>\n",
       "</table>\n",
       "</div>"
      ],
      "text/plain": [
       "                 brand                                      name   \n",
       "0         The Ordinary          Glycolic Acid 7% Toning Solution  \\\n",
       "1       La Roche-Posay  Toleriane Hydrating Gentle Face Cleanser   \n",
       "2         The Ordinary                Niacinamide 10% + Zinc 1%    \n",
       "3  Youth To The People            Superfood Antioxidant Cleanser   \n",
       "4                COSRX          Low pH Good Morning Gel Cleanser   \n",
       "\n",
       "               type        country   \n",
       "0             Toner         Canada  \\\n",
       "1     Face Cleanser         France   \n",
       "2  Facial Treatment         Canada   \n",
       "3     Face Cleanser  United States   \n",
       "4     Face Cleanser    South Korea   \n",
       "\n",
       "                                         ingridients   \n",
       "0  Water,Glycolic Acid,Rosa Damascena Flower Wate...  \\\n",
       "1  Water,Glycerin,Pentaerythrityl Tetraethylhexan...   \n",
       "2  Water,Niacinamide,Pentylene Glycol,Zinc PCA,Di...   \n",
       "3  Water,Cocamidopropyl Hydroxysultaine,Sodium Co...   \n",
       "4  Water,Cocamidopropyl Betaine,Sodium Lauroyl Me...   \n",
       "\n",
       "                                            afterUse  \n",
       "0  Good For Oily Skin,Skin Texture,Reduces Large ...  \n",
       "1  Good For Oily Skin,Redness Reducing,Reduces Ir...  \n",
       "2  Good For Oily Skin,Redness Reducing,Acne Fight...  \n",
       "3  Redness Reducing,Reduces Irritation,Skin Textu...  \n",
       "4  Good For Oily Skin,Reduces Irritation,Reduces ...  "
      ]
     },
     "execution_count": 20,
     "metadata": {},
     "output_type": "execute_result"
    }
   ],
   "source": [
    "# remove duplicates\n",
    "df_filt = df_filtered.drop_duplicates()\n",
    "# reset index inplace\n",
    "df_filt.reset_index(inplace=True, drop=True)\n",
    "df_filt.head(5)"
   ]
  },
  {
   "cell_type": "code",
   "execution_count": 21,
   "metadata": {},
   "outputs": [
    {
     "name": "stdout",
     "output_type": "stream",
     "text": [
      "Missing values per column:\n",
      " brand             0\n",
      "name              0\n",
      "type             15\n",
      "country        1240\n",
      "ingridients      35\n",
      "afterUse        887\n",
      "dtype: int64\n"
     ]
    }
   ],
   "source": [
    "# missing values\n",
    "missing_values = df_filt.isnull().sum()\n",
    "print(\"Missing values per column:\\n\", missing_values)"
   ]
  },
  {
   "cell_type": "code",
   "execution_count": 27,
   "metadata": {},
   "outputs": [],
   "source": [
    "df_miss = df_filt.dropna(subset=['ingridients','type','afterUse'])\n"
   ]
  },
  {
   "cell_type": "code",
   "execution_count": 28,
   "metadata": {},
   "outputs": [
    {
     "name": "stdout",
     "output_type": "stream",
     "text": [
      "Missing values per column:\n",
      " brand             0\n",
      "name              0\n",
      "type              0\n",
      "country        1171\n",
      "ingridients       0\n",
      "afterUse          0\n",
      "dtype: int64\n"
     ]
    }
   ],
   "source": [
    "# missing values\n",
    "missing_values = df_miss.isnull().sum()\n",
    "print(\"Missing values per column:\\n\", missing_values)"
   ]
  },
  {
   "cell_type": "code",
   "execution_count": 29,
   "metadata": {},
   "outputs": [
    {
     "data": {
      "text/plain": [
       "(13784, 6)"
      ]
     },
     "execution_count": 29,
     "metadata": {},
     "output_type": "execute_result"
    }
   ],
   "source": [
    "df_miss.shape"
   ]
  },
  {
   "cell_type": "code",
   "execution_count": 30,
   "metadata": {},
   "outputs": [
    {
     "name": "stderr",
     "output_type": "stream",
     "text": [
      "/var/folders/tl/40517jl91c37d_b8j15w_1wm0000gn/T/ipykernel_4796/4197624215.py:2: SettingWithCopyWarning: \n",
      "A value is trying to be set on a copy of a slice from a DataFrame\n",
      "\n",
      "See the caveats in the documentation: https://pandas.pydata.org/pandas-docs/stable/user_guide/indexing.html#returning-a-view-versus-a-copy\n",
      "  df_miss.rename(columns={'ingridients': 'ingredients'}, inplace=True)\n"
     ]
    }
   ],
   "source": [
    "# Rename a column in-place\n",
    "df_miss.rename(columns={'ingridients': 'ingredients'}, inplace=True)"
   ]
  },
  {
   "cell_type": "code",
   "execution_count": 31,
   "metadata": {},
   "outputs": [
    {
     "data": {
      "text/html": [
       "<div>\n",
       "<style scoped>\n",
       "    .dataframe tbody tr th:only-of-type {\n",
       "        vertical-align: middle;\n",
       "    }\n",
       "\n",
       "    .dataframe tbody tr th {\n",
       "        vertical-align: top;\n",
       "    }\n",
       "\n",
       "    .dataframe thead th {\n",
       "        text-align: right;\n",
       "    }\n",
       "</style>\n",
       "<table border=\"1\" class=\"dataframe\">\n",
       "  <thead>\n",
       "    <tr style=\"text-align: right;\">\n",
       "      <th></th>\n",
       "      <th>brand</th>\n",
       "      <th>name</th>\n",
       "      <th>type</th>\n",
       "      <th>country</th>\n",
       "      <th>ingredients</th>\n",
       "      <th>afterUse</th>\n",
       "    </tr>\n",
       "  </thead>\n",
       "  <tbody>\n",
       "    <tr>\n",
       "      <th>0</th>\n",
       "      <td>The Ordinary</td>\n",
       "      <td>Glycolic Acid 7% Toning Solution</td>\n",
       "      <td>Toner</td>\n",
       "      <td>Canada</td>\n",
       "      <td>Water,Glycolic Acid,Rosa Damascena Flower Wate...</td>\n",
       "      <td>Good For Oily Skin,Skin Texture,Reduces Large ...</td>\n",
       "    </tr>\n",
       "    <tr>\n",
       "      <th>1</th>\n",
       "      <td>La Roche-Posay</td>\n",
       "      <td>Toleriane Hydrating Gentle Face Cleanser</td>\n",
       "      <td>Face Cleanser</td>\n",
       "      <td>France</td>\n",
       "      <td>Water,Glycerin,Pentaerythrityl Tetraethylhexan...</td>\n",
       "      <td>Good For Oily Skin,Redness Reducing,Reduces Ir...</td>\n",
       "    </tr>\n",
       "    <tr>\n",
       "      <th>2</th>\n",
       "      <td>The Ordinary</td>\n",
       "      <td>Niacinamide 10% + Zinc 1%</td>\n",
       "      <td>Facial Treatment</td>\n",
       "      <td>Canada</td>\n",
       "      <td>Water,Niacinamide,Pentylene Glycol,Zinc PCA,Di...</td>\n",
       "      <td>Good For Oily Skin,Redness Reducing,Acne Fight...</td>\n",
       "    </tr>\n",
       "    <tr>\n",
       "      <th>3</th>\n",
       "      <td>Youth To The People</td>\n",
       "      <td>Superfood Antioxidant Cleanser</td>\n",
       "      <td>Face Cleanser</td>\n",
       "      <td>United States</td>\n",
       "      <td>Water,Cocamidopropyl Hydroxysultaine,Sodium Co...</td>\n",
       "      <td>Redness Reducing,Reduces Irritation,Skin Textu...</td>\n",
       "    </tr>\n",
       "    <tr>\n",
       "      <th>4</th>\n",
       "      <td>COSRX</td>\n",
       "      <td>Low pH Good Morning Gel Cleanser</td>\n",
       "      <td>Face Cleanser</td>\n",
       "      <td>South Korea</td>\n",
       "      <td>Water,Cocamidopropyl Betaine,Sodium Lauroyl Me...</td>\n",
       "      <td>Good For Oily Skin,Reduces Irritation,Reduces ...</td>\n",
       "    </tr>\n",
       "  </tbody>\n",
       "</table>\n",
       "</div>"
      ],
      "text/plain": [
       "                 brand                                      name   \n",
       "0         The Ordinary          Glycolic Acid 7% Toning Solution  \\\n",
       "1       La Roche-Posay  Toleriane Hydrating Gentle Face Cleanser   \n",
       "2         The Ordinary                Niacinamide 10% + Zinc 1%    \n",
       "3  Youth To The People            Superfood Antioxidant Cleanser   \n",
       "4                COSRX          Low pH Good Morning Gel Cleanser   \n",
       "\n",
       "               type        country   \n",
       "0             Toner         Canada  \\\n",
       "1     Face Cleanser         France   \n",
       "2  Facial Treatment         Canada   \n",
       "3     Face Cleanser  United States   \n",
       "4     Face Cleanser    South Korea   \n",
       "\n",
       "                                         ingredients   \n",
       "0  Water,Glycolic Acid,Rosa Damascena Flower Wate...  \\\n",
       "1  Water,Glycerin,Pentaerythrityl Tetraethylhexan...   \n",
       "2  Water,Niacinamide,Pentylene Glycol,Zinc PCA,Di...   \n",
       "3  Water,Cocamidopropyl Hydroxysultaine,Sodium Co...   \n",
       "4  Water,Cocamidopropyl Betaine,Sodium Lauroyl Me...   \n",
       "\n",
       "                                            afterUse  \n",
       "0  Good For Oily Skin,Skin Texture,Reduces Large ...  \n",
       "1  Good For Oily Skin,Redness Reducing,Reduces Ir...  \n",
       "2  Good For Oily Skin,Redness Reducing,Acne Fight...  \n",
       "3  Redness Reducing,Reduces Irritation,Skin Textu...  \n",
       "4  Good For Oily Skin,Reduces Irritation,Reduces ...  "
      ]
     },
     "execution_count": 31,
     "metadata": {},
     "output_type": "execute_result"
    }
   ],
   "source": [
    "df_miss.head()"
   ]
  },
  {
   "cell_type": "code",
   "execution_count": 32,
   "metadata": {},
   "outputs": [
    {
     "data": {
      "text/plain": [
       "brand\n",
       "Neutrogena            187\n",
       "La Roche-Posay        144\n",
       "innisfree             132\n",
       "Paula's Choice        120\n",
       "Missha                106\n",
       "                     ... \n",
       "Lubriderm               1\n",
       "Dermabien               1\n",
       "Eskinol                 1\n",
       "Function Of Beauty      1\n",
       "Plants are Purple       1\n",
       "Name: count, Length: 1794, dtype: int64"
      ]
     },
     "execution_count": 32,
     "metadata": {},
     "output_type": "execute_result"
    }
   ],
   "source": [
    "df_miss['brand'].value_counts()"
   ]
  },
  {
   "cell_type": "markdown",
   "metadata": {},
   "source": [
    "## Products Sephora "
   ]
  },
  {
   "cell_type": "code",
   "execution_count": null,
   "metadata": {},
   "outputs": [],
   "source": []
  }
 ],
 "metadata": {
  "kernelspec": {
   "display_name": ".venv",
   "language": "python",
   "name": "python3"
  },
  "language_info": {
   "codemirror_mode": {
    "name": "ipython",
    "version": 3
   },
   "file_extension": ".py",
   "mimetype": "text/x-python",
   "name": "python",
   "nbconvert_exporter": "python",
   "pygments_lexer": "ipython3",
   "version": "3.11.3"
  }
 },
 "nbformat": 4,
 "nbformat_minor": 2
}
